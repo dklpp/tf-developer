{
  "nbformat": 4,
  "nbformat_minor": 0,
  "metadata": {
    "colab": {
      "provenance": [],
      "gpuType": "T4",
      "authorship_tag": "ABX9TyP1ILBz2W+SphoE+0tHS2zn",
      "include_colab_link": true
    },
    "kernelspec": {
      "name": "python3",
      "display_name": "Python 3"
    },
    "language_info": {
      "name": "python"
    },
    "accelerator": "GPU"
  },
  "cells": [
    {
      "cell_type": "markdown",
      "metadata": {
        "id": "view-in-github",
        "colab_type": "text"
      },
      "source": [
        "<a href=\"https://colab.research.google.com/github/dklpp/tf-developer/blob/main/TF_Keras_Developer.ipynb\" target=\"_parent\"><img src=\"https://colab.research.google.com/assets/colab-badge.svg\" alt=\"Open In Colab\"/></a>"
      ]
    },
    {
      "cell_type": "code",
      "execution_count": null,
      "metadata": {
        "id": "QT7JwfSh_7yx"
      },
      "outputs": [],
      "source": [
        "import tensorflow as tf\n",
        "import numpy as np\n",
        "from tensorflow import keras\n",
        "import matplotlib.pyplot as plt"
      ]
    },
    {
      "cell_type": "markdown",
      "source": [
        "# Fitting a straight line"
      ],
      "metadata": {
        "id": "wyGVqk3WBBlk"
      }
    },
    {
      "cell_type": "code",
      "source": [
        "model = keras.Sequential([\n",
        "    keras.layers.Dense(units=1, input_shape=[1])\n",
        "])\n",
        "\n",
        "model.compile(optimizer='sgd', loss='mean_squared_error')"
      ],
      "metadata": {
        "id": "8Uo8gNxqAFgr"
      },
      "execution_count": null,
      "outputs": []
    },
    {
      "cell_type": "code",
      "source": [
        "x = np.array([-1, 0, 1, 2, 3, 4], dtype=float)\n",
        "y = np.array([-3, -1, 1, 3, 5, 7], dtype=float)"
      ],
      "metadata": {
        "id": "4LdURJHIAaF1"
      },
      "execution_count": null,
      "outputs": []
    },
    {
      "cell_type": "code",
      "source": [
        "plt.plot(x, y);"
      ],
      "metadata": {
        "colab": {
          "base_uri": "https://localhost:8080/",
          "height": 430
        },
        "id": "nG3tiSEUA-mf",
        "outputId": "0176f2e4-9c1b-4911-9969-2b319d07431b"
      },
      "execution_count": null,
      "outputs": [
        {
          "output_type": "display_data",
          "data": {
            "text/plain": [
              "<Figure size 640x480 with 1 Axes>"
            ],
            "image/png": "[encoded data removed]"
          },
          "metadata": {}
        }
      ]
    },
    {
      "cell_type": "code",
      "source": [
        "history = model.fit(x, y, epochs=500)"
      ],
      "metadata": {
        "colab": {
          "base_uri": "https://localhost:8080/"
        },
        "id": "7YJyKHiFAiyq",
        "outputId": "764e46ed-fe53-498a-a6b5-a2146e2cb305"
      },
      "execution_count": null,
      "outputs": [
        {
          "output_type": "stream",
          "name": "stdout",
          "text": [
            "Epoch 1/500\n",
            "1/1 [==============================] - 0s 19ms/step - loss: 0.0021\n",
            "Epoch 2/500\n",
            "1/1 [==============================] - 0s 24ms/step - loss: 0.0020\n",
            "Epoch 3/500\n",
            "1/1 [==============================] - 0s 14ms/step - loss: 0.0020\n",
            "Epoch 4/500\n",
            "1/1 [==============================] - 0s 15ms/step - loss: 0.0019\n",
            "Epoch 5/500\n",
            "1/1 [==============================] - 0s 15ms/step - loss: 0.0019\n",
            "Epoch 6/500\n",
            "1/1 [==============================] - 0s 15ms/step - loss: 0.0019\n",
            "Epoch 7/500\n",
            "1/1 [==============================] - 0s 14ms/step - loss: 0.0018\n",
            "Epoch 8/500\n",
            "1/1 [==============================] - 0s 19ms/step - loss: 0.0018\n",
            "Epoch 9/500\n",
            "1/1 [==============================] - 0s 17ms/step - loss: 0.0017\n",
            "Epoch 10/500\n",
            "1/1 [==============================] - 0s 19ms/step - loss: 0.0017\n",
            "Epoch 11/500\n",
            "1/1 [==============================] - 0s 13ms/step - loss: 0.0017\n",
            "Epoch 12/500\n",
            "1/1 [==============================] - 0s 10ms/step - loss: 0.0016\n",
            "Epoch 13/500\n",
            "1/1 [==============================] - 0s 10ms/step - loss: 0.0016\n",
            "Epoch 14/500\n",
            "1/1 [==============================] - 0s 12ms/step - loss: 0.0016\n",
            "Epoch 15/500\n",
            "1/1 [==============================] - 0s 18ms/step - loss: 0.0015\n",
            "Epoch 16/500\n",
            "1/1 [==============================] - 0s 14ms/step - loss: 0.0015\n",
            "Epoch 17/500\n",
            "1/1 [==============================] - 0s 20ms/step - loss: 0.0015\n",
            "Epoch 18/500\n",
            "1/1 [==============================] - 0s 12ms/step - loss: 0.0014\n",
            "Epoch 19/500\n",
            "1/1 [==============================] - 0s 8ms/step - loss: 0.0014\n",
            "Epoch 20/500\n",
            "1/1 [==============================] - 0s 14ms/step - loss: 0.0014\n",
            "Epoch 21/500\n",
            "1/1 [==============================] - 0s 13ms/step - loss: 0.0014\n",
            "Epoch 22/500\n",
            "1/1 [==============================] - 0s 25ms/step - loss: 0.0013\n",
            "Epoch 23/500\n",
            "1/1 [==============================] - 0s 8ms/step - loss: 0.0013\n",
            "Epoch 24/500\n",
            "1/1 [==============================] - 0s 13ms/step - loss: 0.0013\n",
            "Epoch 25/500\n",
            "1/1 [==============================] - 0s 9ms/step - loss: 0.0013\n",
            "Epoch 26/500\n",
            "1/1 [==============================] - 0s 12ms/step - loss: 0.0012\n",
            "Epoch 27/500\n",
            "1/1 [==============================] - 0s 17ms/step - loss: 0.0012\n",
            "Epoch 28/500\n",
            "1/1 [==============================] - 0s 7ms/step - loss: 0.0012\n",
            "Epoch 29/500\n",
            "1/1 [==============================] - 0s 16ms/step - loss: 0.0012\n",
            "Epoch 30/500\n",
            "1/1 [==============================] - 0s 10ms/step - loss: 0.0011\n",
            "Epoch 31/500\n",
            "1/1 [==============================] - 0s 12ms/step - loss: 0.0011\n",
            "Epoch 32/500\n",
            "1/1 [==============================] - 0s 18ms/step - loss: 0.0011\n",
            "Epoch 33/500\n",
            "1/1 [==============================] - 0s 11ms/step - loss: 0.0011\n",
            "Epoch 34/500\n",
            "1/1 [==============================] - 0s 23ms/step - loss: 0.0010\n",
            "Epoch 35/500\n",
            "1/1 [==============================] - 0s 8ms/step - loss: 0.0010\n",
            "Epoch 36/500\n",
            "1/1 [==============================] - 0s 11ms/step - loss: 9.9750e-04\n",
            "Epoch 37/500\n",
            "1/1 [==============================] - 0s 25ms/step - loss: 9.7701e-04\n",
            "Epoch 38/500\n",
            "1/1 [==============================] - 0s 14ms/step - loss: 9.5694e-04\n",
            "Epoch 39/500\n",
            "1/1 [==============================] - 0s 15ms/step - loss: 9.3728e-04\n",
            "Epoch 40/500\n",
            "1/1 [==============================] - 0s 12ms/step - loss: 9.1803e-04\n",
            "Epoch 41/500\n",
            "1/1 [==============================] - 0s 13ms/step - loss: 8.9918e-04\n",
            "Epoch 42/500\n",
            "1/1 [==============================] - 0s 12ms/step - loss: 8.8071e-04\n",
            "Epoch 43/500\n",
            "1/1 [==============================] - 0s 15ms/step - loss: 8.6262e-04\n",
            "Epoch 44/500\n",
            "1/1 [==============================] - 0s 15ms/step - loss: 8.4490e-04\n",
            "Epoch 45/500\n",
            "1/1 [==============================] - 0s 7ms/step - loss: 8.2754e-04\n",
            "Epoch 46/500\n",
            "1/1 [==============================] - 0s 7ms/step - loss: 8.1055e-04\n",
            "Epoch 47/500\n",
            "1/1 [==============================] - 0s 15ms/step - loss: 7.9390e-04\n",
            "Epoch 48/500\n",
            "1/1 [==============================] - 0s 7ms/step - loss: 7.7759e-04\n",
            "Epoch 49/500\n",
            "1/1 [==============================] - 0s 18ms/step - loss: 7.6162e-04\n",
            "Epoch 50/500\n",
            "1/1 [==============================] - 0s 17ms/step - loss: 7.4597e-04\n",
            "Epoch 51/500\n",
            "1/1 [==============================] - 0s 14ms/step - loss: 7.3065e-04\n",
            "Epoch 52/500\n",
            "1/1 [==============================] - 0s 13ms/step - loss: 7.1564e-04\n",
            "Epoch 53/500\n",
            "1/1 [==============================] - 0s 12ms/step - loss: 7.0094e-04\n",
            "Epoch 54/500\n",
            "1/1 [==============================] - 0s 18ms/step - loss: 6.8654e-04\n",
            "Epoch 55/500\n",
            "1/1 [==============================] - 0s 12ms/step - loss: 6.7244e-04\n",
            "Epoch 56/500\n",
            "1/1 [==============================] - 0s 19ms/step - loss: 6.5863e-04\n",
            "Epoch 57/500\n",
            "1/1 [==============================] - 0s 12ms/step - loss: 6.4510e-04\n",
            "Epoch 58/500\n",
            "1/1 [==============================] - 0s 13ms/step - loss: 6.3185e-04\n",
            "Epoch 59/500\n",
            "1/1 [==============================] - 0s 12ms/step - loss: 6.1887e-04\n",
            "Epoch 60/500\n",
            "1/1 [==============================] - 0s 20ms/step - loss: 6.0616e-04\n",
            "Epoch 61/500\n",
            "1/1 [==============================] - 0s 12ms/step - loss: 5.9371e-04\n",
            "Epoch 62/500\n",
            "1/1 [==============================] - 0s 14ms/step - loss: 5.8151e-04\n",
            "Epoch 63/500\n",
            "1/1 [==============================] - 0s 12ms/step - loss: 5.6957e-04\n",
            "Epoch 64/500\n",
            "1/1 [==============================] - 0s 11ms/step - loss: 5.5787e-04\n",
            "Epoch 65/500\n",
            "1/1 [==============================] - 0s 16ms/step - loss: 5.4641e-04\n",
            "Epoch 66/500\n",
            "1/1 [==============================] - 0s 11ms/step - loss: 5.3519e-04\n",
            "Epoch 67/500\n",
            "1/1 [==============================] - 0s 10ms/step - loss: 5.2419e-04\n",
            "Epoch 68/500\n",
            "1/1 [==============================] - 0s 11ms/step - loss: 5.1342e-04\n",
            "Epoch 69/500\n",
            "1/1 [==============================] - 0s 8ms/step - loss: 5.0288e-04\n",
            "Epoch 70/500\n",
            "1/1 [==============================] - 0s 8ms/step - loss: 4.9255e-04\n",
            "Epoch 71/500\n",
            "1/1 [==============================] - 0s 11ms/step - loss: 4.8243e-04\n",
            "Epoch 72/500\n",
            "1/1 [==============================] - 0s 6ms/step - loss: 4.7252e-04\n",
            "Epoch 73/500\n",
            "1/1 [==============================] - 0s 8ms/step - loss: 4.6282e-04\n",
            "Epoch 74/500\n",
            "1/1 [==============================] - 0s 12ms/step - loss: 4.5331e-04\n",
            "Epoch 75/500\n",
            "1/1 [==============================] - 0s 14ms/step - loss: 4.4400e-04\n",
            "Epoch 76/500\n",
            "1/1 [==============================] - 0s 8ms/step - loss: 4.3488e-04\n",
            "Epoch 77/500\n",
            "1/1 [==============================] - 0s 38ms/step - loss: 4.2595e-04\n",
            "Epoch 78/500\n",
            "1/1 [==============================] - 0s 10ms/step - loss: 4.1720e-04\n",
            "Epoch 79/500\n",
            "1/1 [==============================] - 0s 9ms/step - loss: 4.0863e-04\n",
            "Epoch 80/500\n",
            "1/1 [==============================] - 0s 8ms/step - loss: 4.0023e-04\n",
            "Epoch 81/500\n",
            "1/1 [==============================] - 0s 7ms/step - loss: 3.9201e-04\n",
            "Epoch 82/500\n",
            "1/1 [==============================] - 0s 9ms/step - loss: 3.8396e-04\n",
            "Epoch 83/500\n",
            "1/1 [==============================] - 0s 8ms/step - loss: 3.7607e-04\n",
            "Epoch 84/500\n",
            "1/1 [==============================] - 0s 7ms/step - loss: 3.6835e-04\n",
            "Epoch 85/500\n",
            "1/1 [==============================] - 0s 11ms/step - loss: 3.6078e-04\n",
            "Epoch 86/500\n",
            "1/1 [==============================] - 0s 8ms/step - loss: 3.5337e-04\n",
            "Epoch 87/500\n",
            "1/1 [==============================] - 0s 7ms/step - loss: 3.4611e-04\n",
            "Epoch 88/500\n",
            "1/1 [==============================] - 0s 7ms/step - loss: 3.3901e-04\n",
            "Epoch 89/500\n",
            "1/1 [==============================] - 0s 10ms/step - loss: 3.3204e-04\n",
            "Epoch 90/500\n",
            "1/1 [==============================] - 0s 9ms/step - loss: 3.2522e-04\n",
            "Epoch 91/500\n",
            "1/1 [==============================] - 0s 7ms/step - loss: 3.1854e-04\n",
            "Epoch 92/500\n",
            "1/1 [==============================] - 0s 7ms/step - loss: 3.1200e-04\n",
            "Epoch 93/500\n",
            "1/1 [==============================] - 0s 10ms/step - loss: 3.0559e-04\n",
            "Epoch 94/500\n",
            "1/1 [==============================] - 0s 6ms/step - loss: 2.9931e-04\n",
            "Epoch 95/500\n",
            "1/1 [==============================] - 0s 7ms/step - loss: 2.9316e-04\n",
            "Epoch 96/500\n",
            "1/1 [==============================] - 0s 8ms/step - loss: 2.8714e-04\n",
            "Epoch 97/500\n",
            "1/1 [==============================] - 0s 8ms/step - loss: 2.8124e-04\n",
            "Epoch 98/500\n",
            "1/1 [==============================] - 0s 8ms/step - loss: 2.7547e-04\n",
            "Epoch 99/500\n",
            "1/1 [==============================] - 0s 9ms/step - loss: 2.6981e-04\n",
            "Epoch 100/500\n",
            "1/1 [==============================] - 0s 6ms/step - loss: 2.6427e-04\n",
            "Epoch 101/500\n",
            "1/1 [==============================] - 0s 8ms/step - loss: 2.5884e-04\n",
            "Epoch 102/500\n",
            "1/1 [==============================] - 0s 10ms/step - loss: 2.5352e-04\n",
            "Epoch 103/500\n",
            "1/1 [==============================] - 0s 7ms/step - loss: 2.4831e-04\n",
            "Epoch 104/500\n",
            "1/1 [==============================] - 0s 8ms/step - loss: 2.4321e-04\n",
            "Epoch 105/500\n",
            "1/1 [==============================] - 0s 8ms/step - loss: 2.3822e-04\n",
            "Epoch 106/500\n",
            "1/1 [==============================] - 0s 7ms/step - loss: 2.3333e-04\n",
            "Epoch 107/500\n",
            "1/1 [==============================] - 0s 9ms/step - loss: 2.2853e-04\n",
            "Epoch 108/500\n",
            "1/1 [==============================] - 0s 9ms/step - loss: 2.2384e-04\n",
            "Epoch 109/500\n",
            "1/1 [==============================] - 0s 10ms/step - loss: 2.1924e-04\n",
            "Epoch 110/500\n",
            "1/1 [==============================] - 0s 9ms/step - loss: 2.1474e-04\n",
            "Epoch 111/500\n",
            "1/1 [==============================] - 0s 11ms/step - loss: 2.1033e-04\n",
            "Epoch 112/500\n",
            "1/1 [==============================] - 0s 9ms/step - loss: 2.0601e-04\n",
            "Epoch 113/500\n",
            "1/1 [==============================] - 0s 11ms/step - loss: 2.0178e-04\n",
            "Epoch 114/500\n",
            "1/1 [==============================] - 0s 11ms/step - loss: 1.9763e-04\n",
            "Epoch 115/500\n",
            "1/1 [==============================] - 0s 8ms/step - loss: 1.9357e-04\n",
            "Epoch 116/500\n",
            "1/1 [==============================] - 0s 9ms/step - loss: 1.8960e-04\n",
            "Epoch 117/500\n",
            "1/1 [==============================] - 0s 8ms/step - loss: 1.8570e-04\n",
            "Epoch 118/500\n",
            "1/1 [==============================] - 0s 7ms/step - loss: 1.8189e-04\n",
            "Epoch 119/500\n",
            "1/1 [==============================] - 0s 10ms/step - loss: 1.7815e-04\n",
            "Epoch 120/500\n",
            "1/1 [==============================] - 0s 7ms/step - loss: 1.7449e-04\n",
            "Epoch 121/500\n",
            "1/1 [==============================] - 0s 8ms/step - loss: 1.7091e-04\n",
            "Epoch 122/500\n",
            "1/1 [==============================] - 0s 9ms/step - loss: 1.6740e-04\n",
            "Epoch 123/500\n",
            "1/1 [==============================] - 0s 8ms/step - loss: 1.6396e-04\n",
            "Epoch 124/500\n",
            "1/1 [==============================] - 0s 9ms/step - loss: 1.6059e-04\n",
            "Epoch 125/500\n",
            "1/1 [==============================] - 0s 7ms/step - loss: 1.5729e-04\n",
            "Epoch 126/500\n",
            "1/1 [==============================] - 0s 7ms/step - loss: 1.5406e-04\n",
            "Epoch 127/500\n",
            "1/1 [==============================] - 0s 8ms/step - loss: 1.5090e-04\n",
            "Epoch 128/500\n",
            "1/1 [==============================] - 0s 7ms/step - loss: 1.4780e-04\n",
            "Epoch 129/500\n",
            "1/1 [==============================] - 0s 7ms/step - loss: 1.4476e-04\n",
            "Epoch 130/500\n",
            "1/1 [==============================] - 0s 9ms/step - loss: 1.4179e-04\n",
            "Epoch 131/500\n",
            "1/1 [==============================] - 0s 7ms/step - loss: 1.3887e-04\n",
            "Epoch 132/500\n",
            "1/1 [==============================] - 0s 7ms/step - loss: 1.3602e-04\n",
            "Epoch 133/500\n",
            "1/1 [==============================] - 0s 9ms/step - loss: 1.3323e-04\n",
            "Epoch 134/500\n",
            "1/1 [==============================] - 0s 7ms/step - loss: 1.3049e-04\n",
            "Epoch 135/500\n",
            "1/1 [==============================] - 0s 8ms/step - loss: 1.2781e-04\n",
            "Epoch 136/500\n",
            "1/1 [==============================] - 0s 7ms/step - loss: 1.2519e-04\n",
            "Epoch 137/500\n",
            "1/1 [==============================] - 0s 7ms/step - loss: 1.2261e-04\n",
            "Epoch 138/500\n",
            "1/1 [==============================] - 0s 11ms/step - loss: 1.2010e-04\n",
            "Epoch 139/500\n",
            "1/1 [==============================] - 0s 8ms/step - loss: 1.1763e-04\n",
            "Epoch 140/500\n",
            "1/1 [==============================] - 0s 7ms/step - loss: 1.1521e-04\n",
            "Epoch 141/500\n",
            "1/1 [==============================] - 0s 10ms/step - loss: 1.1285e-04\n",
            "Epoch 142/500\n",
            "1/1 [==============================] - 0s 9ms/step - loss: 1.1053e-04\n",
            "Epoch 143/500\n",
            "1/1 [==============================] - 0s 10ms/step - loss: 1.0826e-04\n",
            "Epoch 144/500\n",
            "1/1 [==============================] - 0s 7ms/step - loss: 1.0604e-04\n",
            "Epoch 145/500\n",
            "1/1 [==============================] - 0s 10ms/step - loss: 1.0386e-04\n",
            "Epoch 146/500\n",
            "1/1 [==============================] - 0s 11ms/step - loss: 1.0172e-04\n",
            "Epoch 147/500\n",
            "1/1 [==============================] - 0s 7ms/step - loss: 9.9636e-05\n",
            "Epoch 148/500\n",
            "1/1 [==============================] - 0s 7ms/step - loss: 9.7588e-05\n",
            "Epoch 149/500\n",
            "1/1 [==============================] - 0s 7ms/step - loss: 9.5584e-05\n",
            "Epoch 150/500\n",
            "1/1 [==============================] - 0s 8ms/step - loss: 9.3620e-05\n",
            "Epoch 151/500\n",
            "1/1 [==============================] - 0s 6ms/step - loss: 9.1697e-05\n",
            "Epoch 152/500\n",
            "1/1 [==============================] - 0s 8ms/step - loss: 8.9814e-05\n",
            "Epoch 153/500\n",
            "1/1 [==============================] - 0s 6ms/step - loss: 8.7969e-05\n",
            "Epoch 154/500\n",
            "1/1 [==============================] - 0s 6ms/step - loss: 8.6162e-05\n",
            "Epoch 155/500\n",
            "1/1 [==============================] - 0s 6ms/step - loss: 8.4392e-05\n",
            "Epoch 156/500\n",
            "1/1 [==============================] - 0s 6ms/step - loss: 8.2660e-05\n",
            "Epoch 157/500\n",
            "1/1 [==============================] - 0s 7ms/step - loss: 8.0962e-05\n",
            "Epoch 158/500\n",
            "1/1 [==============================] - 0s 6ms/step - loss: 7.9299e-05\n",
            "Epoch 159/500\n",
            "1/1 [==============================] - 0s 9ms/step - loss: 7.7670e-05\n",
            "Epoch 160/500\n",
            "1/1 [==============================] - 0s 6ms/step - loss: 7.6074e-05\n",
            "Epoch 161/500\n",
            "1/1 [==============================] - 0s 7ms/step - loss: 7.4512e-05\n",
            "Epoch 162/500\n",
            "1/1 [==============================] - 0s 10ms/step - loss: 7.2982e-05\n",
            "Epoch 163/500\n",
            "1/1 [==============================] - 0s 6ms/step - loss: 7.1482e-05\n",
            "Epoch 164/500\n",
            "1/1 [==============================] - 0s 8ms/step - loss: 7.0015e-05\n",
            "Epoch 165/500\n",
            "1/1 [==============================] - 0s 6ms/step - loss: 6.8575e-05\n",
            "Epoch 166/500\n",
            "1/1 [==============================] - 0s 8ms/step - loss: 6.7167e-05\n",
            "Epoch 167/500\n",
            "1/1 [==============================] - 0s 9ms/step - loss: 6.5788e-05\n",
            "Epoch 168/500\n",
            "1/1 [==============================] - 0s 6ms/step - loss: 6.4437e-05\n",
            "Epoch 169/500\n",
            "1/1 [==============================] - 0s 8ms/step - loss: 6.3113e-05\n",
            "Epoch 170/500\n",
            "1/1 [==============================] - 0s 7ms/step - loss: 6.1816e-05\n",
            "Epoch 171/500\n",
            "1/1 [==============================] - 0s 7ms/step - loss: 6.0547e-05\n",
            "Epoch 172/500\n",
            "1/1 [==============================] - 0s 7ms/step - loss: 5.9302e-05\n",
            "Epoch 173/500\n",
            "1/1 [==============================] - 0s 8ms/step - loss: 5.8085e-05\n",
            "Epoch 174/500\n",
            "1/1 [==============================] - 0s 9ms/step - loss: 5.6891e-05\n",
            "Epoch 175/500\n",
            "1/1 [==============================] - 0s 7ms/step - loss: 5.5722e-05\n",
            "Epoch 176/500\n",
            "1/1 [==============================] - 0s 6ms/step - loss: 5.4577e-05\n",
            "Epoch 177/500\n",
            "1/1 [==============================] - 0s 7ms/step - loss: 5.3457e-05\n",
            "Epoch 178/500\n",
            "1/1 [==============================] - 0s 7ms/step - loss: 5.2359e-05\n",
            "Epoch 179/500\n",
            "1/1 [==============================] - 0s 8ms/step - loss: 5.1283e-05\n",
            "Epoch 180/500\n",
            "1/1 [==============================] - 0s 7ms/step - loss: 5.0229e-05\n",
            "Epoch 181/500\n",
            "1/1 [==============================] - 0s 6ms/step - loss: 4.9198e-05\n",
            "Epoch 182/500\n",
            "1/1 [==============================] - 0s 7ms/step - loss: 4.8188e-05\n",
            "Epoch 183/500\n",
            "1/1 [==============================] - 0s 7ms/step - loss: 4.7198e-05\n",
            "Epoch 184/500\n",
            "1/1 [==============================] - 0s 6ms/step - loss: 4.6228e-05\n",
            "Epoch 185/500\n",
            "1/1 [==============================] - 0s 8ms/step - loss: 4.5279e-05\n",
            "Epoch 186/500\n",
            "1/1 [==============================] - 0s 6ms/step - loss: 4.4348e-05\n",
            "Epoch 187/500\n",
            "1/1 [==============================] - 0s 7ms/step - loss: 4.3438e-05\n",
            "Epoch 188/500\n",
            "1/1 [==============================] - 0s 10ms/step - loss: 4.2546e-05\n",
            "Epoch 189/500\n",
            "1/1 [==============================] - 0s 9ms/step - loss: 4.1672e-05\n",
            "Epoch 190/500\n",
            "1/1 [==============================] - 0s 8ms/step - loss: 4.0815e-05\n",
            "Epoch 191/500\n",
            "1/1 [==============================] - 0s 7ms/step - loss: 3.9977e-05\n",
            "Epoch 192/500\n",
            "1/1 [==============================] - 0s 9ms/step - loss: 3.9156e-05\n",
            "Epoch 193/500\n",
            "1/1 [==============================] - 0s 6ms/step - loss: 3.8351e-05\n",
            "Epoch 194/500\n",
            "1/1 [==============================] - 0s 6ms/step - loss: 3.7563e-05\n",
            "Epoch 195/500\n",
            "1/1 [==============================] - 0s 8ms/step - loss: 3.6792e-05\n",
            "Epoch 196/500\n",
            "1/1 [==============================] - 0s 7ms/step - loss: 3.6036e-05\n",
            "Epoch 197/500\n",
            "1/1 [==============================] - 0s 8ms/step - loss: 3.5296e-05\n",
            "Epoch 198/500\n",
            "1/1 [==============================] - 0s 6ms/step - loss: 3.4571e-05\n",
            "Epoch 199/500\n",
            "1/1 [==============================] - 0s 9ms/step - loss: 3.3861e-05\n",
            "Epoch 200/500\n",
            "1/1 [==============================] - 0s 6ms/step - loss: 3.3165e-05\n",
            "Epoch 201/500\n",
            "1/1 [==============================] - 0s 5ms/step - loss: 3.2485e-05\n",
            "Epoch 202/500\n",
            "1/1 [==============================] - 0s 15ms/step - loss: 3.1816e-05\n",
            "Epoch 203/500\n",
            "1/1 [==============================] - 0s 7ms/step - loss: 3.1163e-05\n",
            "Epoch 204/500\n",
            "1/1 [==============================] - 0s 7ms/step - loss: 3.0522e-05\n",
            "Epoch 205/500\n",
            "1/1 [==============================] - 0s 8ms/step - loss: 2.9896e-05\n",
            "Epoch 206/500\n",
            "1/1 [==============================] - 0s 11ms/step - loss: 2.9282e-05\n",
            "Epoch 207/500\n",
            "1/1 [==============================] - 0s 5ms/step - loss: 2.8680e-05\n",
            "Epoch 208/500\n",
            "1/1 [==============================] - 0s 6ms/step - loss: 2.8091e-05\n",
            "Epoch 209/500\n",
            "1/1 [==============================] - 0s 9ms/step - loss: 2.7514e-05\n",
            "Epoch 210/500\n",
            "1/1 [==============================] - 0s 8ms/step - loss: 2.6949e-05\n",
            "Epoch 211/500\n",
            "1/1 [==============================] - 0s 10ms/step - loss: 2.6396e-05\n",
            "Epoch 212/500\n",
            "1/1 [==============================] - 0s 5ms/step - loss: 2.5854e-05\n",
            "Epoch 213/500\n",
            "1/1 [==============================] - 0s 5ms/step - loss: 2.5322e-05\n",
            "Epoch 214/500\n",
            "1/1 [==============================] - 0s 9ms/step - loss: 2.4803e-05\n",
            "Epoch 215/500\n",
            "1/1 [==============================] - 0s 6ms/step - loss: 2.4293e-05\n",
            "Epoch 216/500\n",
            "1/1 [==============================] - 0s 5ms/step - loss: 2.3794e-05\n",
            "Epoch 217/500\n",
            "1/1 [==============================] - 0s 10ms/step - loss: 2.3305e-05\n",
            "Epoch 218/500\n",
            "1/1 [==============================] - 0s 5ms/step - loss: 2.2826e-05\n",
            "Epoch 219/500\n",
            "1/1 [==============================] - 0s 6ms/step - loss: 2.2357e-05\n",
            "Epoch 220/500\n",
            "1/1 [==============================] - 0s 8ms/step - loss: 2.1898e-05\n",
            "Epoch 221/500\n",
            "1/1 [==============================] - 0s 7ms/step - loss: 2.1448e-05\n",
            "Epoch 222/500\n",
            "1/1 [==============================] - 0s 6ms/step - loss: 2.1008e-05\n",
            "Epoch 223/500\n",
            "1/1 [==============================] - 0s 10ms/step - loss: 2.0576e-05\n",
            "Epoch 224/500\n",
            "1/1 [==============================] - 0s 6ms/step - loss: 2.0153e-05\n",
            "Epoch 225/500\n",
            "1/1 [==============================] - 0s 6ms/step - loss: 1.9739e-05\n",
            "Epoch 226/500\n",
            "1/1 [==============================] - 0s 7ms/step - loss: 1.9334e-05\n",
            "Epoch 227/500\n",
            "1/1 [==============================] - 0s 8ms/step - loss: 1.8936e-05\n",
            "Epoch 228/500\n",
            "1/1 [==============================] - 0s 6ms/step - loss: 1.8547e-05\n",
            "Epoch 229/500\n",
            "1/1 [==============================] - 0s 6ms/step - loss: 1.8167e-05\n",
            "Epoch 230/500\n",
            "1/1 [==============================] - 0s 19ms/step - loss: 1.7793e-05\n",
            "Epoch 231/500\n",
            "1/1 [==============================] - 0s 11ms/step - loss: 1.7428e-05\n",
            "Epoch 232/500\n",
            "1/1 [==============================] - 0s 10ms/step - loss: 1.7069e-05\n",
            "Epoch 233/500\n",
            "1/1 [==============================] - 0s 11ms/step - loss: 1.6719e-05\n",
            "Epoch 234/500\n",
            "1/1 [==============================] - 0s 35ms/step - loss: 1.6376e-05\n",
            "Epoch 235/500\n",
            "1/1 [==============================] - 0s 99ms/step - loss: 1.6040e-05\n",
            "Epoch 236/500\n",
            "1/1 [==============================] - 0s 8ms/step - loss: 1.5710e-05\n",
            "Epoch 237/500\n",
            "1/1 [==============================] - 0s 10ms/step - loss: 1.5387e-05\n",
            "Epoch 238/500\n",
            "1/1 [==============================] - 0s 8ms/step - loss: 1.5072e-05\n",
            "Epoch 239/500\n",
            "1/1 [==============================] - 0s 7ms/step - loss: 1.4761e-05\n",
            "Epoch 240/500\n",
            "1/1 [==============================] - 0s 8ms/step - loss: 1.4458e-05\n",
            "Epoch 241/500\n",
            "1/1 [==============================] - 0s 8ms/step - loss: 1.4161e-05\n",
            "Epoch 242/500\n",
            "1/1 [==============================] - 0s 7ms/step - loss: 1.3871e-05\n",
            "Epoch 243/500\n",
            "1/1 [==============================] - 0s 8ms/step - loss: 1.3585e-05\n",
            "Epoch 244/500\n",
            "1/1 [==============================] - 0s 8ms/step - loss: 1.3306e-05\n",
            "Epoch 245/500\n",
            "1/1 [==============================] - 0s 8ms/step - loss: 1.3033e-05\n",
            "Epoch 246/500\n",
            "1/1 [==============================] - 0s 10ms/step - loss: 1.2765e-05\n",
            "Epoch 247/500\n",
            "1/1 [==============================] - 0s 8ms/step - loss: 1.2503e-05\n",
            "Epoch 248/500\n",
            "1/1 [==============================] - 0s 7ms/step - loss: 1.2246e-05\n",
            "Epoch 249/500\n",
            "1/1 [==============================] - 0s 12ms/step - loss: 1.1995e-05\n",
            "Epoch 250/500\n",
            "1/1 [==============================] - 0s 7ms/step - loss: 1.1748e-05\n",
            "Epoch 251/500\n",
            "1/1 [==============================] - 0s 11ms/step - loss: 1.1507e-05\n",
            "Epoch 252/500\n",
            "1/1 [==============================] - 0s 8ms/step - loss: 1.1271e-05\n",
            "Epoch 253/500\n",
            "1/1 [==============================] - 0s 8ms/step - loss: 1.1040e-05\n",
            "Epoch 254/500\n",
            "1/1 [==============================] - 0s 7ms/step - loss: 1.0813e-05\n",
            "Epoch 255/500\n",
            "1/1 [==============================] - 0s 8ms/step - loss: 1.0591e-05\n",
            "Epoch 256/500\n",
            "1/1 [==============================] - 0s 12ms/step - loss: 1.0374e-05\n",
            "Epoch 257/500\n",
            "1/1 [==============================] - 0s 10ms/step - loss: 1.0160e-05\n",
            "Epoch 258/500\n",
            "1/1 [==============================] - 0s 8ms/step - loss: 9.9517e-06\n",
            "Epoch 259/500\n",
            "1/1 [==============================] - 0s 8ms/step - loss: 9.7470e-06\n",
            "Epoch 260/500\n",
            "1/1 [==============================] - 0s 12ms/step - loss: 9.5466e-06\n",
            "Epoch 261/500\n",
            "1/1 [==============================] - 0s 9ms/step - loss: 9.3508e-06\n",
            "Epoch 262/500\n",
            "1/1 [==============================] - 0s 8ms/step - loss: 9.1588e-06\n",
            "Epoch 263/500\n",
            "1/1 [==============================] - 0s 11ms/step - loss: 8.9704e-06\n",
            "Epoch 264/500\n",
            "1/1 [==============================] - 0s 8ms/step - loss: 8.7861e-06\n",
            "Epoch 265/500\n",
            "1/1 [==============================] - 0s 8ms/step - loss: 8.6056e-06\n",
            "Epoch 266/500\n",
            "1/1 [==============================] - 0s 7ms/step - loss: 8.4291e-06\n",
            "Epoch 267/500\n",
            "1/1 [==============================] - 0s 8ms/step - loss: 8.2563e-06\n",
            "Epoch 268/500\n",
            "1/1 [==============================] - 0s 9ms/step - loss: 8.0865e-06\n",
            "Epoch 269/500\n",
            "1/1 [==============================] - 0s 8ms/step - loss: 7.9209e-06\n",
            "Epoch 270/500\n",
            "1/1 [==============================] - 0s 7ms/step - loss: 7.7577e-06\n",
            "Epoch 271/500\n",
            "1/1 [==============================] - 0s 9ms/step - loss: 7.5985e-06\n",
            "Epoch 272/500\n",
            "1/1 [==============================] - 0s 8ms/step - loss: 7.4426e-06\n",
            "Epoch 273/500\n",
            "1/1 [==============================] - 0s 8ms/step - loss: 7.2898e-06\n",
            "Epoch 274/500\n",
            "1/1 [==============================] - 0s 8ms/step - loss: 7.1400e-06\n",
            "Epoch 275/500\n",
            "1/1 [==============================] - 0s 11ms/step - loss: 6.9932e-06\n",
            "Epoch 276/500\n",
            "1/1 [==============================] - 0s 8ms/step - loss: 6.8498e-06\n",
            "Epoch 277/500\n",
            "1/1 [==============================] - 0s 9ms/step - loss: 6.7089e-06\n",
            "Epoch 278/500\n",
            "1/1 [==============================] - 0s 8ms/step - loss: 6.5715e-06\n",
            "Epoch 279/500\n",
            "1/1 [==============================] - 0s 8ms/step - loss: 6.4362e-06\n",
            "Epoch 280/500\n",
            "1/1 [==============================] - 0s 9ms/step - loss: 6.3043e-06\n",
            "Epoch 281/500\n",
            "1/1 [==============================] - 0s 7ms/step - loss: 6.1745e-06\n",
            "Epoch 282/500\n",
            "1/1 [==============================] - 0s 8ms/step - loss: 6.0480e-06\n",
            "Epoch 283/500\n",
            "1/1 [==============================] - 0s 8ms/step - loss: 5.9236e-06\n",
            "Epoch 284/500\n",
            "1/1 [==============================] - 0s 8ms/step - loss: 5.8021e-06\n",
            "Epoch 285/500\n",
            "1/1 [==============================] - 0s 7ms/step - loss: 5.6829e-06\n",
            "Epoch 286/500\n",
            "1/1 [==============================] - 0s 8ms/step - loss: 5.5660e-06\n",
            "Epoch 287/500\n",
            "1/1 [==============================] - 0s 10ms/step - loss: 5.4520e-06\n",
            "Epoch 288/500\n",
            "1/1 [==============================] - 0s 7ms/step - loss: 5.3398e-06\n",
            "Epoch 289/500\n",
            "1/1 [==============================] - 0s 8ms/step - loss: 5.2303e-06\n",
            "Epoch 290/500\n",
            "1/1 [==============================] - 0s 9ms/step - loss: 5.1225e-06\n",
            "Epoch 291/500\n",
            "1/1 [==============================] - 0s 8ms/step - loss: 5.0176e-06\n",
            "Epoch 292/500\n",
            "1/1 [==============================] - 0s 10ms/step - loss: 4.9145e-06\n",
            "Epoch 293/500\n",
            "1/1 [==============================] - 0s 10ms/step - loss: 4.8133e-06\n",
            "Epoch 294/500\n",
            "1/1 [==============================] - 0s 10ms/step - loss: 4.7146e-06\n",
            "Epoch 295/500\n",
            "1/1 [==============================] - 0s 9ms/step - loss: 4.6177e-06\n",
            "Epoch 296/500\n",
            "1/1 [==============================] - 0s 10ms/step - loss: 4.5231e-06\n",
            "Epoch 297/500\n",
            "1/1 [==============================] - 0s 8ms/step - loss: 4.4300e-06\n",
            "Epoch 298/500\n",
            "1/1 [==============================] - 0s 11ms/step - loss: 4.3389e-06\n",
            "Epoch 299/500\n",
            "1/1 [==============================] - 0s 9ms/step - loss: 4.2498e-06\n",
            "Epoch 300/500\n",
            "1/1 [==============================] - 0s 9ms/step - loss: 4.1625e-06\n",
            "Epoch 301/500\n",
            "1/1 [==============================] - 0s 8ms/step - loss: 4.0771e-06\n",
            "Epoch 302/500\n",
            "1/1 [==============================] - 0s 10ms/step - loss: 3.9933e-06\n",
            "Epoch 303/500\n",
            "1/1 [==============================] - 0s 9ms/step - loss: 3.9111e-06\n",
            "Epoch 304/500\n",
            "1/1 [==============================] - 0s 10ms/step - loss: 3.8309e-06\n",
            "Epoch 305/500\n",
            "1/1 [==============================] - 0s 11ms/step - loss: 3.7523e-06\n",
            "Epoch 306/500\n",
            "1/1 [==============================] - 0s 12ms/step - loss: 3.6752e-06\n",
            "Epoch 307/500\n",
            "1/1 [==============================] - 0s 10ms/step - loss: 3.5998e-06\n",
            "Epoch 308/500\n",
            "1/1 [==============================] - 0s 7ms/step - loss: 3.5260e-06\n",
            "Epoch 309/500\n",
            "1/1 [==============================] - 0s 9ms/step - loss: 3.4534e-06\n",
            "Epoch 310/500\n",
            "1/1 [==============================] - 0s 11ms/step - loss: 3.3825e-06\n",
            "Epoch 311/500\n",
            "1/1 [==============================] - 0s 6ms/step - loss: 3.3128e-06\n",
            "Epoch 312/500\n",
            "1/1 [==============================] - 0s 9ms/step - loss: 3.2447e-06\n",
            "Epoch 313/500\n",
            "1/1 [==============================] - 0s 8ms/step - loss: 3.1783e-06\n",
            "Epoch 314/500\n",
            "1/1 [==============================] - 0s 7ms/step - loss: 3.1129e-06\n",
            "Epoch 315/500\n",
            "1/1 [==============================] - 0s 10ms/step - loss: 3.0491e-06\n",
            "Epoch 316/500\n",
            "1/1 [==============================] - 0s 8ms/step - loss: 2.9862e-06\n",
            "Epoch 317/500\n",
            "1/1 [==============================] - 0s 9ms/step - loss: 2.9250e-06\n",
            "Epoch 318/500\n",
            "1/1 [==============================] - 0s 7ms/step - loss: 2.8648e-06\n",
            "Epoch 319/500\n",
            "1/1 [==============================] - 0s 8ms/step - loss: 2.8061e-06\n",
            "Epoch 320/500\n",
            "1/1 [==============================] - 0s 7ms/step - loss: 2.7485e-06\n",
            "Epoch 321/500\n",
            "1/1 [==============================] - 0s 11ms/step - loss: 2.6920e-06\n",
            "Epoch 322/500\n",
            "1/1 [==============================] - 0s 10ms/step - loss: 2.6369e-06\n",
            "Epoch 323/500\n",
            "1/1 [==============================] - 0s 9ms/step - loss: 2.5824e-06\n",
            "Epoch 324/500\n",
            "1/1 [==============================] - 0s 10ms/step - loss: 2.5297e-06\n",
            "Epoch 325/500\n",
            "1/1 [==============================] - 0s 7ms/step - loss: 2.4775e-06\n",
            "Epoch 326/500\n",
            "1/1 [==============================] - 0s 8ms/step - loss: 2.4267e-06\n",
            "Epoch 327/500\n",
            "1/1 [==============================] - 0s 9ms/step - loss: 2.3768e-06\n",
            "Epoch 328/500\n",
            "1/1 [==============================] - 0s 10ms/step - loss: 2.3281e-06\n",
            "Epoch 329/500\n",
            "1/1 [==============================] - 0s 8ms/step - loss: 2.2803e-06\n",
            "Epoch 330/500\n",
            "1/1 [==============================] - 0s 6ms/step - loss: 2.2336e-06\n",
            "Epoch 331/500\n",
            "1/1 [==============================] - 0s 8ms/step - loss: 2.1875e-06\n",
            "Epoch 332/500\n",
            "1/1 [==============================] - 0s 9ms/step - loss: 2.1427e-06\n",
            "Epoch 333/500\n",
            "1/1 [==============================] - 0s 9ms/step - loss: 2.0987e-06\n",
            "Epoch 334/500\n",
            "1/1 [==============================] - 0s 10ms/step - loss: 2.0556e-06\n",
            "Epoch 335/500\n",
            "1/1 [==============================] - 0s 9ms/step - loss: 2.0133e-06\n",
            "Epoch 336/500\n",
            "1/1 [==============================] - 0s 8ms/step - loss: 1.9720e-06\n",
            "Epoch 337/500\n",
            "1/1 [==============================] - 0s 8ms/step - loss: 1.9314e-06\n",
            "Epoch 338/500\n",
            "1/1 [==============================] - 0s 8ms/step - loss: 1.8918e-06\n",
            "Epoch 339/500\n",
            "1/1 [==============================] - 0s 7ms/step - loss: 1.8529e-06\n",
            "Epoch 340/500\n",
            "1/1 [==============================] - 0s 9ms/step - loss: 1.8150e-06\n",
            "Epoch 341/500\n",
            "1/1 [==============================] - 0s 11ms/step - loss: 1.7776e-06\n",
            "Epoch 342/500\n",
            "1/1 [==============================] - 0s 7ms/step - loss: 1.7410e-06\n",
            "Epoch 343/500\n",
            "1/1 [==============================] - 0s 12ms/step - loss: 1.7053e-06\n",
            "Epoch 344/500\n",
            "1/1 [==============================] - 0s 10ms/step - loss: 1.6703e-06\n",
            "Epoch 345/500\n",
            "1/1 [==============================] - 0s 7ms/step - loss: 1.6361e-06\n",
            "Epoch 346/500\n",
            "1/1 [==============================] - 0s 10ms/step - loss: 1.6024e-06\n",
            "Epoch 347/500\n",
            "1/1 [==============================] - 0s 8ms/step - loss: 1.5696e-06\n",
            "Epoch 348/500\n",
            "1/1 [==============================] - 0s 8ms/step - loss: 1.5375e-06\n",
            "Epoch 349/500\n",
            "1/1 [==============================] - 0s 9ms/step - loss: 1.5060e-06\n",
            "Epoch 350/500\n",
            "1/1 [==============================] - 0s 7ms/step - loss: 1.4749e-06\n",
            "Epoch 351/500\n",
            "1/1 [==============================] - 0s 7ms/step - loss: 1.4445e-06\n",
            "Epoch 352/500\n",
            "1/1 [==============================] - 0s 9ms/step - loss: 1.4150e-06\n",
            "Epoch 353/500\n",
            "1/1 [==============================] - 0s 9ms/step - loss: 1.3857e-06\n",
            "Epoch 354/500\n",
            "1/1 [==============================] - 0s 6ms/step - loss: 1.3574e-06\n",
            "Epoch 355/500\n",
            "1/1 [==============================] - 0s 8ms/step - loss: 1.3295e-06\n",
            "Epoch 356/500\n",
            "1/1 [==============================] - 0s 9ms/step - loss: 1.3021e-06\n",
            "Epoch 357/500\n",
            "1/1 [==============================] - 0s 9ms/step - loss: 1.2753e-06\n",
            "Epoch 358/500\n",
            "1/1 [==============================] - 0s 8ms/step - loss: 1.2492e-06\n",
            "Epoch 359/500\n",
            "1/1 [==============================] - 0s 9ms/step - loss: 1.2235e-06\n",
            "Epoch 360/500\n",
            "1/1 [==============================] - 0s 11ms/step - loss: 1.1983e-06\n",
            "Epoch 361/500\n",
            "1/1 [==============================] - 0s 7ms/step - loss: 1.1737e-06\n",
            "Epoch 362/500\n",
            "1/1 [==============================] - 0s 8ms/step - loss: 1.1497e-06\n",
            "Epoch 363/500\n",
            "1/1 [==============================] - 0s 8ms/step - loss: 1.1259e-06\n",
            "Epoch 364/500\n",
            "1/1 [==============================] - 0s 9ms/step - loss: 1.1029e-06\n",
            "Epoch 365/500\n",
            "1/1 [==============================] - 0s 8ms/step - loss: 1.0802e-06\n",
            "Epoch 366/500\n",
            "1/1 [==============================] - 0s 8ms/step - loss: 1.0582e-06\n",
            "Epoch 367/500\n",
            "1/1 [==============================] - 0s 9ms/step - loss: 1.0364e-06\n",
            "Epoch 368/500\n",
            "1/1 [==============================] - 0s 10ms/step - loss: 1.0150e-06\n",
            "Epoch 369/500\n",
            "1/1 [==============================] - 0s 9ms/step - loss: 9.9424e-07\n",
            "Epoch 370/500\n",
            "1/1 [==============================] - 0s 9ms/step - loss: 9.7376e-07\n",
            "Epoch 371/500\n",
            "1/1 [==============================] - 0s 9ms/step - loss: 9.5374e-07\n",
            "Epoch 372/500\n",
            "1/1 [==============================] - 0s 12ms/step - loss: 9.3416e-07\n",
            "Epoch 373/500\n",
            "1/1 [==============================] - 0s 10ms/step - loss: 9.1507e-07\n",
            "Epoch 374/500\n",
            "1/1 [==============================] - 0s 8ms/step - loss: 8.9619e-07\n",
            "Epoch 375/500\n",
            "1/1 [==============================] - 0s 9ms/step - loss: 8.7792e-07\n",
            "Epoch 376/500\n",
            "1/1 [==============================] - 0s 8ms/step - loss: 8.5988e-07\n",
            "Epoch 377/500\n",
            "1/1 [==============================] - 0s 9ms/step - loss: 8.4212e-07\n",
            "Epoch 378/500\n",
            "1/1 [==============================] - 0s 8ms/step - loss: 8.2488e-07\n",
            "Epoch 379/500\n",
            "1/1 [==============================] - 0s 8ms/step - loss: 8.0782e-07\n",
            "Epoch 380/500\n",
            "1/1 [==============================] - 0s 8ms/step - loss: 7.9125e-07\n",
            "Epoch 381/500\n",
            "1/1 [==============================] - 0s 11ms/step - loss: 7.7503e-07\n",
            "Epoch 382/500\n",
            "1/1 [==============================] - 0s 9ms/step - loss: 7.5914e-07\n",
            "Epoch 383/500\n",
            "1/1 [==============================] - 0s 7ms/step - loss: 7.4351e-07\n",
            "Epoch 384/500\n",
            "1/1 [==============================] - 0s 9ms/step - loss: 7.2819e-07\n",
            "Epoch 385/500\n",
            "1/1 [==============================] - 0s 8ms/step - loss: 7.1333e-07\n",
            "Epoch 386/500\n",
            "1/1 [==============================] - 0s 9ms/step - loss: 6.9864e-07\n",
            "Epoch 387/500\n",
            "1/1 [==============================] - 0s 7ms/step - loss: 6.8421e-07\n",
            "Epoch 388/500\n",
            "1/1 [==============================] - 0s 8ms/step - loss: 6.7024e-07\n",
            "Epoch 389/500\n",
            "1/1 [==============================] - 0s 9ms/step - loss: 6.5648e-07\n",
            "Epoch 390/500\n",
            "1/1 [==============================] - 0s 9ms/step - loss: 6.4290e-07\n",
            "Epoch 391/500\n",
            "1/1 [==============================] - 0s 8ms/step - loss: 6.2973e-07\n",
            "Epoch 392/500\n",
            "1/1 [==============================] - 0s 11ms/step - loss: 6.1677e-07\n",
            "Epoch 393/500\n",
            "1/1 [==============================] - 0s 9ms/step - loss: 6.0418e-07\n",
            "Epoch 394/500\n",
            "1/1 [==============================] - 0s 6ms/step - loss: 5.9168e-07\n",
            "Epoch 395/500\n",
            "1/1 [==============================] - 0s 8ms/step - loss: 5.7958e-07\n",
            "Epoch 396/500\n",
            "1/1 [==============================] - 0s 8ms/step - loss: 5.6775e-07\n",
            "Epoch 397/500\n",
            "1/1 [==============================] - 0s 9ms/step - loss: 5.5611e-07\n",
            "Epoch 398/500\n",
            "1/1 [==============================] - 0s 10ms/step - loss: 5.4464e-07\n",
            "Epoch 399/500\n",
            "1/1 [==============================] - 0s 8ms/step - loss: 5.3345e-07\n",
            "Epoch 400/500\n",
            "1/1 [==============================] - 0s 10ms/step - loss: 5.2252e-07\n",
            "Epoch 401/500\n",
            "1/1 [==============================] - 0s 9ms/step - loss: 5.1167e-07\n",
            "Epoch 402/500\n",
            "1/1 [==============================] - 0s 10ms/step - loss: 5.0117e-07\n",
            "Epoch 403/500\n",
            "1/1 [==============================] - 0s 8ms/step - loss: 4.9087e-07\n",
            "Epoch 404/500\n",
            "1/1 [==============================] - 0s 7ms/step - loss: 4.8082e-07\n",
            "Epoch 405/500\n",
            "1/1 [==============================] - 0s 10ms/step - loss: 4.7088e-07\n",
            "Epoch 406/500\n",
            "1/1 [==============================] - 0s 10ms/step - loss: 4.6121e-07\n",
            "Epoch 407/500\n",
            "1/1 [==============================] - 0s 8ms/step - loss: 4.5180e-07\n",
            "Epoch 408/500\n",
            "1/1 [==============================] - 0s 8ms/step - loss: 4.4251e-07\n",
            "Epoch 409/500\n",
            "1/1 [==============================] - 0s 8ms/step - loss: 4.3335e-07\n",
            "Epoch 410/500\n",
            "1/1 [==============================] - 0s 9ms/step - loss: 4.2454e-07\n",
            "Epoch 411/500\n",
            "1/1 [==============================] - 0s 10ms/step - loss: 4.1577e-07\n",
            "Epoch 412/500\n",
            "1/1 [==============================] - 0s 7ms/step - loss: 4.0719e-07\n",
            "Epoch 413/500\n",
            "1/1 [==============================] - 0s 10ms/step - loss: 3.9879e-07\n",
            "Epoch 414/500\n",
            "1/1 [==============================] - 0s 7ms/step - loss: 3.9071e-07\n",
            "Epoch 415/500\n",
            "1/1 [==============================] - 0s 8ms/step - loss: 3.8269e-07\n",
            "Epoch 416/500\n",
            "1/1 [==============================] - 0s 8ms/step - loss: 3.7475e-07\n",
            "Epoch 417/500\n",
            "1/1 [==============================] - 0s 11ms/step - loss: 3.6713e-07\n",
            "Epoch 418/500\n",
            "1/1 [==============================] - 0s 8ms/step - loss: 3.5955e-07\n",
            "Epoch 419/500\n",
            "1/1 [==============================] - 0s 7ms/step - loss: 3.5220e-07\n",
            "Epoch 420/500\n",
            "1/1 [==============================] - 0s 7ms/step - loss: 3.4497e-07\n",
            "Epoch 421/500\n",
            "1/1 [==============================] - 0s 7ms/step - loss: 3.3783e-07\n",
            "Epoch 422/500\n",
            "1/1 [==============================] - 0s 7ms/step - loss: 3.3091e-07\n",
            "Epoch 423/500\n",
            "1/1 [==============================] - 0s 7ms/step - loss: 3.2416e-07\n",
            "Epoch 424/500\n",
            "1/1 [==============================] - 0s 9ms/step - loss: 3.1744e-07\n",
            "Epoch 425/500\n",
            "1/1 [==============================] - 0s 9ms/step - loss: 3.1099e-07\n",
            "Epoch 426/500\n",
            "1/1 [==============================] - 0s 8ms/step - loss: 3.0453e-07\n",
            "Epoch 427/500\n",
            "1/1 [==============================] - 0s 9ms/step - loss: 2.9834e-07\n",
            "Epoch 428/500\n",
            "1/1 [==============================] - 0s 7ms/step - loss: 2.9215e-07\n",
            "Epoch 429/500\n",
            "1/1 [==============================] - 0s 9ms/step - loss: 2.8617e-07\n",
            "Epoch 430/500\n",
            "1/1 [==============================] - 0s 9ms/step - loss: 2.8026e-07\n",
            "Epoch 431/500\n",
            "1/1 [==============================] - 0s 8ms/step - loss: 2.7451e-07\n",
            "Epoch 432/500\n",
            "1/1 [==============================] - 0s 10ms/step - loss: 2.6894e-07\n",
            "Epoch 433/500\n",
            "1/1 [==============================] - 0s 7ms/step - loss: 2.6345e-07\n",
            "Epoch 434/500\n",
            "1/1 [==============================] - 0s 7ms/step - loss: 2.5795e-07\n",
            "Epoch 435/500\n",
            "1/1 [==============================] - 0s 8ms/step - loss: 2.5272e-07\n",
            "Epoch 436/500\n",
            "1/1 [==============================] - 0s 8ms/step - loss: 2.4755e-07\n",
            "Epoch 437/500\n",
            "1/1 [==============================] - 0s 10ms/step - loss: 2.4243e-07\n",
            "Epoch 438/500\n",
            "1/1 [==============================] - 0s 7ms/step - loss: 2.3746e-07\n",
            "Epoch 439/500\n",
            "1/1 [==============================] - 0s 9ms/step - loss: 2.3258e-07\n",
            "Epoch 440/500\n",
            "1/1 [==============================] - 0s 8ms/step - loss: 2.2777e-07\n",
            "Epoch 441/500\n",
            "1/1 [==============================] - 0s 8ms/step - loss: 2.2314e-07\n",
            "Epoch 442/500\n",
            "1/1 [==============================] - 0s 9ms/step - loss: 2.1861e-07\n",
            "Epoch 443/500\n",
            "1/1 [==============================] - 0s 6ms/step - loss: 2.1409e-07\n",
            "Epoch 444/500\n",
            "1/1 [==============================] - 0s 10ms/step - loss: 2.0968e-07\n",
            "Epoch 445/500\n",
            "1/1 [==============================] - 0s 7ms/step - loss: 2.0537e-07\n",
            "Epoch 446/500\n",
            "1/1 [==============================] - 0s 8ms/step - loss: 2.0118e-07\n",
            "Epoch 447/500\n",
            "1/1 [==============================] - 0s 7ms/step - loss: 1.9706e-07\n",
            "Epoch 448/500\n",
            "1/1 [==============================] - 0s 10ms/step - loss: 1.9298e-07\n",
            "Epoch 449/500\n",
            "1/1 [==============================] - 0s 9ms/step - loss: 1.8901e-07\n",
            "Epoch 450/500\n",
            "1/1 [==============================] - 0s 9ms/step - loss: 1.8515e-07\n",
            "Epoch 451/500\n",
            "1/1 [==============================] - 0s 7ms/step - loss: 1.8130e-07\n",
            "Epoch 452/500\n",
            "1/1 [==============================] - 0s 10ms/step - loss: 1.7759e-07\n",
            "Epoch 453/500\n",
            "1/1 [==============================] - 0s 11ms/step - loss: 1.7387e-07\n",
            "Epoch 454/500\n",
            "1/1 [==============================] - 0s 8ms/step - loss: 1.7035e-07\n",
            "Epoch 455/500\n",
            "1/1 [==============================] - 0s 12ms/step - loss: 1.6685e-07\n",
            "Epoch 456/500\n",
            "1/1 [==============================] - 0s 7ms/step - loss: 1.6342e-07\n",
            "Epoch 457/500\n",
            "1/1 [==============================] - 0s 9ms/step - loss: 1.6005e-07\n",
            "Epoch 458/500\n",
            "1/1 [==============================] - 0s 8ms/step - loss: 1.5677e-07\n",
            "Epoch 459/500\n",
            "1/1 [==============================] - 0s 8ms/step - loss: 1.5350e-07\n",
            "Epoch 460/500\n",
            "1/1 [==============================] - 0s 9ms/step - loss: 1.5032e-07\n",
            "Epoch 461/500\n",
            "1/1 [==============================] - 0s 6ms/step - loss: 1.4726e-07\n",
            "Epoch 462/500\n",
            "1/1 [==============================] - 0s 8ms/step - loss: 1.4424e-07\n",
            "Epoch 463/500\n",
            "1/1 [==============================] - 0s 8ms/step - loss: 1.4126e-07\n",
            "Epoch 464/500\n",
            "1/1 [==============================] - 0s 8ms/step - loss: 1.3842e-07\n",
            "Epoch 465/500\n",
            "1/1 [==============================] - 0s 7ms/step - loss: 1.3558e-07\n",
            "Epoch 466/500\n",
            "1/1 [==============================] - 0s 9ms/step - loss: 1.3279e-07\n",
            "Epoch 467/500\n",
            "1/1 [==============================] - 0s 12ms/step - loss: 1.3005e-07\n",
            "Epoch 468/500\n",
            "1/1 [==============================] - 0s 11ms/step - loss: 1.2734e-07\n",
            "Epoch 469/500\n",
            "1/1 [==============================] - 0s 9ms/step - loss: 1.2471e-07\n",
            "Epoch 470/500\n",
            "1/1 [==============================] - 0s 10ms/step - loss: 1.2215e-07\n",
            "Epoch 471/500\n",
            "1/1 [==============================] - 0s 8ms/step - loss: 1.1967e-07\n",
            "Epoch 472/500\n",
            "1/1 [==============================] - 0s 6ms/step - loss: 1.1723e-07\n",
            "Epoch 473/500\n",
            "1/1 [==============================] - 0s 10ms/step - loss: 1.1481e-07\n",
            "Epoch 474/500\n",
            "1/1 [==============================] - 0s 9ms/step - loss: 1.1245e-07\n",
            "Epoch 475/500\n",
            "1/1 [==============================] - 0s 10ms/step - loss: 1.1010e-07\n",
            "Epoch 476/500\n",
            "1/1 [==============================] - 0s 8ms/step - loss: 1.0785e-07\n",
            "Epoch 477/500\n",
            "1/1 [==============================] - 0s 10ms/step - loss: 1.0563e-07\n",
            "Epoch 478/500\n",
            "1/1 [==============================] - 0s 9ms/step - loss: 1.0348e-07\n",
            "Epoch 479/500\n",
            "1/1 [==============================] - 0s 7ms/step - loss: 1.0134e-07\n",
            "Epoch 480/500\n",
            "1/1 [==============================] - 0s 9ms/step - loss: 9.9269e-08\n",
            "Epoch 481/500\n",
            "1/1 [==============================] - 0s 9ms/step - loss: 9.7232e-08\n",
            "Epoch 482/500\n",
            "1/1 [==============================] - 0s 10ms/step - loss: 9.5216e-08\n",
            "Epoch 483/500\n",
            "1/1 [==============================] - 0s 8ms/step - loss: 9.3278e-08\n",
            "Epoch 484/500\n",
            "1/1 [==============================] - 0s 9ms/step - loss: 9.1350e-08\n",
            "Epoch 485/500\n",
            "1/1 [==============================] - 0s 9ms/step - loss: 8.9478e-08\n",
            "Epoch 486/500\n",
            "1/1 [==============================] - 0s 8ms/step - loss: 8.7625e-08\n",
            "Epoch 487/500\n",
            "1/1 [==============================] - 0s 8ms/step - loss: 8.5845e-08\n",
            "Epoch 488/500\n",
            "1/1 [==============================] - 0s 10ms/step - loss: 8.4057e-08\n",
            "Epoch 489/500\n",
            "1/1 [==============================] - 0s 9ms/step - loss: 8.2311e-08\n",
            "Epoch 490/500\n",
            "1/1 [==============================] - 0s 8ms/step - loss: 8.0612e-08\n",
            "Epoch 491/500\n",
            "1/1 [==============================] - 0s 8ms/step - loss: 7.8973e-08\n",
            "Epoch 492/500\n",
            "1/1 [==============================] - 0s 11ms/step - loss: 7.7359e-08\n",
            "Epoch 493/500\n",
            "1/1 [==============================] - 0s 6ms/step - loss: 7.5771e-08\n",
            "Epoch 494/500\n",
            "1/1 [==============================] - 0s 10ms/step - loss: 7.4204e-08\n",
            "Epoch 495/500\n",
            "1/1 [==============================] - 0s 10ms/step - loss: 7.2721e-08\n",
            "Epoch 496/500\n",
            "1/1 [==============================] - 0s 6ms/step - loss: 7.1213e-08\n",
            "Epoch 497/500\n",
            "1/1 [==============================] - 0s 8ms/step - loss: 6.9752e-08\n",
            "Epoch 498/500\n",
            "1/1 [==============================] - 0s 8ms/step - loss: 6.8282e-08\n",
            "Epoch 499/500\n",
            "1/1 [==============================] - 0s 9ms/step - loss: 6.6868e-08\n",
            "Epoch 500/500\n",
            "1/1 [==============================] - 0s 9ms/step - loss: 6.5532e-08\n"
          ]
        }
      ]
    },
    {
      "cell_type": "code",
      "source": [
        "print(model.predict([10.0, 2.0]))"
      ],
      "metadata": {
        "colab": {
          "base_uri": "https://localhost:8080/"
        },
        "id": "1MBBTbJ7AmAc",
        "outputId": "2026bfad-2e7b-4982-febc-fc17761658ed"
      },
      "execution_count": null,
      "outputs": [
        {
          "output_type": "stream",
          "name": "stdout",
          "text": [
            "1/1 [==============================] - 0s 59ms/step\n",
            "[[18.999252 ]\n",
            " [ 3.0001192]]\n"
          ]
        }
      ]
    },
    {
      "cell_type": "code",
      "source": [
        "history.history.keys()"
      ],
      "metadata": {
        "colab": {
          "base_uri": "https://localhost:8080/"
        },
        "id": "jHp8cZoFCjQT",
        "outputId": "309ee900-29fb-4f43-f92a-558ac75e9b1e"
      },
      "execution_count": null,
      "outputs": [
        {
          "output_type": "execute_result",
          "data": {
            "text/plain": [
              "dict_keys(['loss'])"
            ]
          },
          "metadata": {},
          "execution_count": 17
        }
      ]
    },
    {
      "cell_type": "code",
      "source": [
        "train_loss = history.history['loss']\n",
        "plt.plot(train_loss, label='train_loss');\n",
        "plt.legend();"
      ],
      "metadata": {
        "colab": {
          "base_uri": "https://localhost:8080/",
          "height": 430
        },
        "id": "D4QAmHxPCrtq",
        "outputId": "213a3caf-89a1-46af-b881-04cfb38c6bd6"
      },
      "execution_count": null,
      "outputs": [
        {
          "output_type": "display_data",
          "data": {
            "text/plain": [
              "<Figure size 640x480 with 1 Axes>"
            ],
            "image/png": "[encoded data removed]"
          },
          "metadata": {}
        }
      ]
    },
    {
      "cell_type": "markdown",
      "source": [
        "# Week 2. Computer Vision with Fashion MNIST"
      ],
      "metadata": {
        "id": "JT60nWLLZrEb"
      }
    },
    {
      "cell_type": "code",
      "source": [
        "mnist = tf.keras.datasets.fashion_mnist\n",
        "\n",
        "(train_images, train_labels), (test_images, test_labels) = mnist.load_data()"
      ],
      "metadata": {
        "colab": {
          "base_uri": "https://localhost:8080/"
        },
        "id": "MGgkrfxWZtDf",
        "outputId": "c4488314-6fbb-4e56-8445-c230a9d9ae9f"
      },
      "execution_count": null,
      "outputs": [
        {
          "output_type": "stream",
          "name": "stdout",
          "text": [
            "Downloading data from https://storage.googleapis.com/tensorflow/tf-keras-datasets/train-labels-idx1-ubyte.gz\n",
            "29515/29515 [==============================] - 0s 1us/step\n",
            "Downloading data from https://storage.googleapis.com/tensorflow/tf-keras-datasets/train-images-idx3-ubyte.gz\n",
            "26421880/26421880 [==============================] - 2s 0us/step\n",
            "Downloading data from https://storage.googleapis.com/tensorflow/tf-keras-datasets/t10k-labels-idx1-ubyte.gz\n",
            "5148/5148 [==============================] - 0s 0us/step\n",
            "Downloading data from https://storage.googleapis.com/tensorflow/tf-keras-datasets/t10k-images-idx3-ubyte.gz\n",
            "4422102/4422102 [==============================] - 1s 0us/step\n"
          ]
        }
      ]
    },
    {
      "cell_type": "code",
      "source": [
        "train_images.shape # 60000 examples of 28x28 pixel images"
      ],
      "metadata": {
        "colab": {
          "base_uri": "https://localhost:8080/"
        },
        "id": "sodwbW3CZ1Il",
        "outputId": "97c41c7f-3c88-43ea-8d81-b8f78f02f1c3"
      },
      "execution_count": null,
      "outputs": [
        {
          "output_type": "execute_result",
          "data": {
            "text/plain": [
              "(60000, 28, 28)"
            ]
          },
          "metadata": {},
          "execution_count": 33
        }
      ]
    },
    {
      "cell_type": "code",
      "source": [
        "train_labels"
      ],
      "metadata": {
        "colab": {
          "base_uri": "https://localhost:8080/"
        },
        "id": "O383Hj53b7-X",
        "outputId": "c8724cbf-3741-4d61-cc01-fffa351e9486"
      },
      "execution_count": null,
      "outputs": [
        {
          "output_type": "execute_result",
          "data": {
            "text/plain": [
              "array([9, 0, 0, ..., 3, 0, 5], dtype=uint8)"
            ]
          },
          "metadata": {},
          "execution_count": 34
        }
      ]
    },
    {
      "cell_type": "markdown",
      "source": [
        "# Print a training image"
      ],
      "metadata": {
        "id": "v1zPLBZRbPpS"
      }
    },
    {
      "cell_type": "code",
      "source": [
        "index = 0\n",
        "\n",
        "# set number of characters per row when printing\n",
        "np.set_printoptions(linewidth=320)\n",
        "\n",
        "# print the label and image\n",
        "print(f'LABEL: {train_labels[index]}')\n",
        "print(f'\\nIMAGE PIXEL ARRAY:\\n {train_images[index]}')\n",
        "\n",
        "# visualize the image\n",
        "plt.imshow(train_images[index], cmap='Greys')"
      ],
      "metadata": {
        "colab": {
          "base_uri": "https://localhost:8080/",
          "height": 974
        },
        "id": "1Qd0Xz3DbSKw",
        "outputId": "22ae9434-1a55-4fdd-86ce-b723b4b9f542"
      },
      "execution_count": null,
      "outputs": [
        {
          "output_type": "stream",
          "name": "stdout",
          "text": [
            "LABEL: 9\n",
            "\n",
            "IMAGE PIXEL ARRAY:\n",
            " [[  0   0   0   0   0   0   0   0   0   0   0   0   0   0   0   0   0   0   0   0   0   0   0   0   0   0   0   0]\n",
            " [  0   0   0   0   0   0   0   0   0   0   0   0   0   0   0   0   0   0   0   0   0   0   0   0   0   0   0   0]\n",
            " [  0   0   0   0   0   0   0   0   0   0   0   0   0   0   0   0   0   0   0   0   0   0   0   0   0   0   0   0]\n",
            " [  0   0   0   0   0   0   0   0   0   0   0   0   1   0   0  13  73   0   0   1   4   0   0   0   0   1   1   0]\n",
            " [  0   0   0   0   0   0   0   0   0   0   0   0   3   0  36 136 127  62  54   0   0   0   1   3   4   0   0   3]\n",
            " [  0   0   0   0   0   0   0   0   0   0   0   0   6   0 102 204 176 134 144 123  23   0   0   0   0  12  10   0]\n",
            " [  0   0   0   0   0   0   0   0   0   0   0   0   0   0 155 236 207 178 107 156 161 109  64  23  77 130  72  15]\n",
            " [  0   0   0   0   0   0   0   0   0   0   0   1   0  69 207 223 218 216 216 163 127 121 122 146 141  88 172  66]\n",
            " [  0   0   0   0   0   0   0   0   0   1   1   1   0 200 232 232 233 229 223 223 215 213 164 127 123 196 229   0]\n",
            " [  0   0   0   0   0   0   0   0   0   0   0   0   0 183 225 216 223 228 235 227 224 222 224 221 223 245 173   0]\n",
            " [  0   0   0   0   0   0   0   0   0   0   0   0   0 193 228 218 213 198 180 212 210 211 213 223 220 243 202   0]\n",
            " [  0   0   0   0   0   0   0   0   0   1   3   0  12 219 220 212 218 192 169 227 208 218 224 212 226 197 209  52]\n",
            " [  0   0   0   0   0   0   0   0   0   0   6   0  99 244 222 220 218 203 198 221 215 213 222 220 245 119 167  56]\n",
            " [  0   0   0   0   0   0   0   0   0   4   0   0  55 236 228 230 228 240 232 213 218 223 234 217 217 209  92   0]\n",
            " [  0   0   1   4   6   7   2   0   0   0   0   0 237 226 217 223 222 219 222 221 216 223 229 215 218 255  77   0]\n",
            " [  0   3   0   0   0   0   0   0   0  62 145 204 228 207 213 221 218 208 211 218 224 223 219 215 224 244 159   0]\n",
            " [  0   0   0   0  18  44  82 107 189 228 220 222 217 226 200 205 211 230 224 234 176 188 250 248 233 238 215   0]\n",
            " [  0  57 187 208 224 221 224 208 204 214 208 209 200 159 245 193 206 223 255 255 221 234 221 211 220 232 246   0]\n",
            " [  3 202 228 224 221 211 211 214 205 205 205 220 240  80 150 255 229 221 188 154 191 210 204 209 222 228 225   0]\n",
            " [ 98 233 198 210 222 229 229 234 249 220 194 215 217 241  65  73 106 117 168 219 221 215 217 223 223 224 229  29]\n",
            " [ 75 204 212 204 193 205 211 225 216 185 197 206 198 213 240 195 227 245 239 223 218 212 209 222 220 221 230  67]\n",
            " [ 48 203 183 194 213 197 185 190 194 192 202 214 219 221 220 236 225 216 199 206 186 181 177 172 181 205 206 115]\n",
            " [  0 122 219 193 179 171 183 196 204 210 213 207 211 210 200 196 194 191 195 191 198 192 176 156 167 177 210  92]\n",
            " [  0   0  74 189 212 191 175 172 175 181 185 188 189 188 193 198 204 209 210 210 211 188 188 194 192 216 170   0]\n",
            " [  2   0   0   0  66 200 222 237 239 242 246 243 244 221 220 193 191 179 182 182 181 176 166 168  99  58   0   0]\n",
            " [  0   0   0   0   0   0   0  40  61  44  72  41  35   0   0   0   0   0   0   0   0   0   0   0   0   0   0   0]\n",
            " [  0   0   0   0   0   0   0   0   0   0   0   0   0   0   0   0   0   0   0   0   0   0   0   0   0   0   0   0]\n",
            " [  0   0   0   0   0   0   0   0   0   0   0   0   0   0   0   0   0   0   0   0   0   0   0   0   0   0   0   0]]\n"
          ]
        },
        {
          "output_type": "execute_result",
          "data": {
            "text/plain": [
              "<matplotlib.image.AxesImage at 0x791c98532da0>"
            ]
          },
          "metadata": {},
          "execution_count": 35
        },
        {
          "output_type": "display_data",
          "data": {
            "text/plain": [
              "<Figure size 640x480 with 1 Axes>"
            ],
            "image/png": "[encoded data removed]"
          },
          "metadata": {}
        }
      ]
    },
    {
      "cell_type": "code",
      "source": [
        "model = keras.Sequential([\n",
        "    keras.layers.Flatten(input_shape=(28, 28)),\n",
        "    keras.layers.Dense(128, activation=tf.nn.relu), # activation='relu'\n",
        "    keras.layers.Dense(10, activation=tf.nn.softmax) # activation='softmax'\n",
        "])"
      ],
      "metadata": {
        "id": "EX0PfOUaZ3vE"
      },
      "execution_count": null,
      "outputs": []
    },
    {
      "cell_type": "markdown",
      "source": [
        "# Normalize the data\n",
        "- it's better for NN"
      ],
      "metadata": {
        "id": "ojFMQ7nqcWfw"
      }
    },
    {
      "cell_type": "code",
      "source": [
        "train_images = train_images / 255.0\n",
        "test_images = test_images / 255.0"
      ],
      "metadata": {
        "id": "X2CujdUCa595"
      },
      "execution_count": null,
      "outputs": []
    },
    {
      "cell_type": "markdown",
      "source": [
        "# Softmax"
      ],
      "metadata": {
        "id": "P-B4CL-2fFLO"
      }
    },
    {
      "cell_type": "code",
      "source": [
        "# Declare sample inputs and convert to a Tensor\n",
        "inputs = np.array([[1, 3, 4, 2]], dtype=float)\n",
        "inputs = tf.convert_to_tensor(inputs)\n",
        "print(f'Input to softmax function: {inputs.numpy()}')\n",
        "\n",
        "# Feed the inputs to a softmax function\n",
        "outputs = tf.keras.activations.softmax(inputs)\n",
        "print(f'Output of softmax function: {outputs.numpy()}')\n",
        "\n",
        "# Get the sum of all values after the softmax\n",
        "sum = tf.reduce_sum(outputs)\n",
        "print(f'Sum of outputs: {sum}')\n",
        "\n",
        "# Get the index with the hights value\n",
        "prediction = np.argmax(outputs)\n",
        "print(f'Class with highest probability: {prediction}')\n"
      ],
      "metadata": {
        "colab": {
          "base_uri": "https://localhost:8080/"
        },
        "id": "10FIiMo_cdrq",
        "outputId": "d2b17058-0601-47bf-8a38-a6b6714e769f"
      },
      "execution_count": null,
      "outputs": [
        {
          "output_type": "stream",
          "name": "stdout",
          "text": [
            "Input to softmax function: [[1. 3. 4. 2.]]\n",
            "Output of softmax function: [[0.0320586  0.23688282 0.64391426 0.08714432]]\n",
            "Sum of outputs: 1.0\n",
            "Class with highest probability: 2\n"
          ]
        }
      ]
    },
    {
      "cell_type": "code",
      "source": [
        "model.compile(optimizer=tf.optimizers.Adam(),\n",
        "              loss='sparse_categorical_crossentropy',\n",
        "              metrics=['accuracy'])\n",
        "\n",
        "model.fit(train_images, train_labels, epochs=10)"
      ],
      "metadata": {
        "colab": {
          "base_uri": "https://localhost:8080/"
        },
        "id": "G6w-F-UwfOLY",
        "outputId": "3917465f-b5a2-4cb5-fe61-d379389c238a"
      },
      "execution_count": null,
      "outputs": [
        {
          "output_type": "stream",
          "name": "stdout",
          "text": [
            "Epoch 1/10\n",
            "1875/1875 [==============================] - 9s 4ms/step - loss: 0.2814 - accuracy: 0.8947\n",
            "Epoch 2/10\n",
            "1875/1875 [==============================] - 6s 3ms/step - loss: 0.2674 - accuracy: 0.9007\n",
            "Epoch 3/10\n",
            "1875/1875 [==============================] - 7s 4ms/step - loss: 0.2567 - accuracy: 0.9042\n",
            "Epoch 4/10\n",
            "1875/1875 [==============================] - 6s 3ms/step - loss: 0.2462 - accuracy: 0.9083\n",
            "Epoch 5/10\n",
            "1875/1875 [==============================] - 7s 4ms/step - loss: 0.2386 - accuracy: 0.9118\n",
            "Epoch 6/10\n",
            "1875/1875 [==============================] - 6s 3ms/step - loss: 0.2288 - accuracy: 0.9143\n",
            "Epoch 7/10\n",
            "1875/1875 [==============================] - 7s 4ms/step - loss: 0.2226 - accuracy: 0.9163\n",
            "Epoch 8/10\n",
            "1875/1875 [==============================] - 7s 4ms/step - loss: 0.2146 - accuracy: 0.9188\n",
            "Epoch 9/10\n",
            "1875/1875 [==============================] - 7s 4ms/step - loss: 0.2098 - accuracy: 0.9218\n",
            "Epoch 10/10\n",
            "1875/1875 [==============================] - 7s 4ms/step - loss: 0.2028 - accuracy: 0.9233\n"
          ]
        },
        {
          "output_type": "execute_result",
          "data": {
            "text/plain": [
              "<keras.src.callbacks.History at 0x791c98257c40>"
            ]
          },
          "metadata": {},
          "execution_count": 51
        }
      ]
    },
    {
      "cell_type": "code",
      "source": [
        "# Evaluate the model on unseen data\n",
        "\n",
        "model.evaluate(test_images, test_labels)"
      ],
      "metadata": {
        "colab": {
          "base_uri": "https://localhost:8080/"
        },
        "id": "lAejBN7ZgcQF",
        "outputId": "f872bb00-c2d9-499d-f4ad-9a18f287cfa8"
      },
      "execution_count": null,
      "outputs": [
        {
          "output_type": "stream",
          "name": "stdout",
          "text": [
            "313/313 [==============================] - 1s 2ms/step - loss: 0.3362 - accuracy: 0.8896\n"
          ]
        },
        {
          "output_type": "execute_result",
          "data": {
            "text/plain": [
              "[0.3362082839012146, 0.8895999789237976]"
            ]
          },
          "metadata": {},
          "execution_count": 52
        }
      ]
    },
    {
      "cell_type": "code",
      "source": [
        "classifications = model.predict(test_images)\n",
        "\n",
        "print(classifications[1])"
      ],
      "metadata": {
        "colab": {
          "base_uri": "https://localhost:8080/"
        },
        "id": "ZqxDBZx3hF-M",
        "outputId": "cd017b67-acb8-4d3e-eea7-8b0a302702d8"
      },
      "execution_count": null,
      "outputs": [
        {
          "output_type": "stream",
          "name": "stdout",
          "text": [
            "313/313 [==============================] - 1s 3ms/step\n",
            "[9.1794305e-07 6.8303850e-17 9.9988097e-01 2.7853800e-12 1.0324355e-04 5.9907100e-15 1.4822935e-05 5.0172362e-24 3.0260976e-12 8.2632531e-17]\n"
          ]
        }
      ]
    },
    {
      "cell_type": "code",
      "source": [
        "print(test_labels[1]) # 9.99 * 10^-1 - the biggest among the others"
      ],
      "metadata": {
        "colab": {
          "base_uri": "https://localhost:8080/"
        },
        "id": "IX4mT6b_h4s3",
        "outputId": "a6b03de8-4030-4496-d3f1-0b4cc5ac1106"
      },
      "execution_count": null,
      "outputs": [
        {
          "output_type": "stream",
          "name": "stdout",
          "text": [
            "2\n"
          ]
        }
      ]
    },
    {
      "cell_type": "markdown",
      "source": [
        "# Different NN Architecture"
      ],
      "metadata": {
        "id": "Fy0hRp8fiW5n"
      }
    },
    {
      "cell_type": "code",
      "source": [
        "fmnist = tf.keras.datasets.fashion_mnist\n",
        "\n",
        "(training_images, training_labels) ,  (test_images, test_labels) = fmnist.load_data()\n",
        "\n",
        "training_images = training_images/255.0\n",
        "test_images = test_images/255.0\n",
        "\n",
        "model = tf.keras.models.Sequential([tf.keras.layers.Flatten(),\n",
        "                                    tf.keras.layers.Dense(512, activation=tf.nn.relu), # Try experimenting with this layer\n",
        "                                    tf.keras.layers.Dense(10, activation=tf.nn.softmax)])\n",
        "\n",
        "model.compile(optimizer = 'adam',\n",
        "              loss = 'sparse_categorical_crossentropy',\n",
        "              metrics=['accuracy'])\n",
        "\n",
        "model.fit(training_images, training_labels, epochs=5)\n",
        "\n",
        "model.evaluate(test_images, test_labels)\n",
        "\n",
        "classifications = model.predict(test_images)\n",
        "\n",
        "print(classifications[0])\n",
        "print(test_labels[0])"
      ],
      "metadata": {
        "colab": {
          "base_uri": "https://localhost:8080/"
        },
        "id": "lZ7U55wFh9iw",
        "outputId": "d45180d1-defa-43de-b0fd-2506c7357b31"
      },
      "execution_count": null,
      "outputs": [
        {
          "output_type": "stream",
          "name": "stdout",
          "text": [
            "Epoch 1/5\n",
            "1875/1875 [==============================] - 14s 7ms/step - loss: 0.4754 - accuracy: 0.8310\n",
            "Epoch 2/5\n",
            "1875/1875 [==============================] - 13s 7ms/step - loss: 0.3571 - accuracy: 0.8706\n",
            "Epoch 3/5\n",
            "1875/1875 [==============================] - 12s 6ms/step - loss: 0.3242 - accuracy: 0.8804\n",
            "Epoch 4/5\n",
            "1875/1875 [==============================] - 12s 7ms/step - loss: 0.3012 - accuracy: 0.8887\n",
            "Epoch 5/5\n",
            "1875/1875 [==============================] - 12s 6ms/step - loss: 0.2806 - accuracy: 0.8952\n",
            "313/313 [==============================] - 1s 3ms/step - loss: 0.3370 - accuracy: 0.8781\n",
            "313/313 [==============================] - 1s 2ms/step\n",
            "[6.1245333e-07 2.6479665e-07 1.5760657e-08 1.4747615e-09 5.9466597e-08 2.5868278e-03 5.7312764e-07 3.7241451e-02 2.1244487e-07 9.6016997e-01]\n",
            "9\n"
          ]
        }
      ]
    },
    {
      "cell_type": "code",
      "source": [
        "fmnist = tf.keras.datasets.fashion_mnist\n",
        "\n",
        "(training_images, training_labels) ,  (test_images, test_labels) = fmnist.load_data()\n",
        "\n",
        "#training_images=training_images/255.0 # Experiment with removing this line\n",
        "#test_images=test_images/255.0 # Experiment with removing this line\n",
        "model = tf.keras.models.Sequential([\n",
        "  tf.keras.layers.Flatten(),\n",
        "  tf.keras.layers.Dense(512, activation=tf.nn.relu),\n",
        "  tf.keras.layers.Dense(10, activation=tf.nn.softmax)\n",
        "])\n",
        "model.compile(optimizer='adam', loss='sparse_categorical_crossentropy')\n",
        "model.fit(training_images, training_labels, epochs=5)\n",
        "model.evaluate(test_images, test_labels)\n",
        "classifications = model.predict(test_images)\n",
        "print(classifications[0])\n",
        "print(test_labels[0])"
      ],
      "metadata": {
        "colab": {
          "base_uri": "https://localhost:8080/"
        },
        "id": "jQl9kDHaielc",
        "outputId": "2d857483-5cf7-4bec-e92f-77f12c0de2a6"
      },
      "execution_count": null,
      "outputs": [
        {
          "output_type": "stream",
          "name": "stdout",
          "text": [
            "Epoch 1/5\n",
            "1875/1875 [==============================] - 15s 7ms/step - loss: 4.4531\n",
            "Epoch 2/5\n",
            "1875/1875 [==============================] - 16s 9ms/step - loss: 0.5416\n",
            "Epoch 3/5\n",
            "1875/1875 [==============================] - 12s 7ms/step - loss: 0.5145\n",
            "Epoch 4/5\n",
            "1875/1875 [==============================] - 12s 6ms/step - loss: 0.5117\n",
            "Epoch 5/5\n",
            "1875/1875 [==============================] - 12s 6ms/step - loss: 0.4860\n",
            "313/313 [==============================] - 1s 2ms/step - loss: 0.5514\n",
            "313/313 [==============================] - 1s 2ms/step\n",
            "[1.5060226e-16 1.6192367e-09 1.1568298e-21 4.3295225e-11 2.2990539e-19 3.9443152e-04 1.1845214e-12 1.4651661e-02 1.8883957e-12 9.8495394e-01]\n",
            "9\n"
          ]
        }
      ]
    },
    {
      "cell_type": "markdown",
      "source": [
        "# Callbacks"
      ],
      "metadata": {
        "id": "lFDm8ozQkB7f"
      }
    },
    {
      "cell_type": "code",
      "source": [
        "class myCallback(tf.keras.callbacks.Callback):\n",
        "  def on_epoch_end(self, epoch, logs={}): # it's called whenever the epoch ends\n",
        "    #if(logs.get('accuracy') >= 0.6): # Experiment with changing this value\n",
        "    if(logs.get('loss') <= 0.4):\n",
        "      print('\\nReached loss=0.4 or less so cancelling training!')\n",
        "      #print(\"\\nReached 60% accuracy so cancelling training!\")\n",
        "      self.model.stop_training = True\n",
        "\n",
        "callbacks = myCallback()"
      ],
      "metadata": {
        "id": "cRO6N_86j8WT"
      },
      "execution_count": null,
      "outputs": []
    },
    {
      "cell_type": "markdown",
      "source": [
        "# Define a Model with Callback"
      ],
      "metadata": {
        "id": "winxEtWllJZw"
      }
    },
    {
      "cell_type": "code",
      "source": [
        "# Define the model\n",
        "model = tf.keras.models.Sequential([\n",
        "  tf.keras.layers.Flatten(input_shape=(28, 28)),\n",
        "  tf.keras.layers.Dense(512, activation=tf.nn.relu),\n",
        "  tf.keras.layers.Dense(10, activation=tf.nn.softmax)\n",
        "])\n",
        "\n",
        "# Compile the model\n",
        "model.compile(optimizer=tf.optimizers.Adam(),\n",
        "              loss='sparse_categorical_crossentropy',\n",
        "              metrics=['accuracy'],\n",
        "              )"
      ],
      "metadata": {
        "id": "gTx_Ed_0lI4f"
      },
      "execution_count": null,
      "outputs": []
    },
    {
      "cell_type": "code",
      "source": [
        "model.fit(train_images, train_labels, epochs=20, callbacks=[callbacks])"
      ],
      "metadata": {
        "colab": {
          "base_uri": "https://localhost:8080/"
        },
        "id": "zyqJy0C8lR6i",
        "outputId": "a88f8be7-48fd-4e96-9c1a-ad6bb8d4b531"
      },
      "execution_count": null,
      "outputs": [
        {
          "output_type": "stream",
          "name": "stdout",
          "text": [
            "Epoch 1/20\n",
            "1875/1875 [==============================] - 14s 7ms/step - loss: 0.4770 - accuracy: 0.8311\n",
            "Epoch 2/20\n",
            "1871/1875 [============================>.] - ETA: 0s - loss: 0.3575 - accuracy: 0.8695\n",
            "Reached loss=0.4 or less so cancelling training!\n",
            "1875/1875 [==============================] - 13s 7ms/step - loss: 0.3576 - accuracy: 0.8694\n"
          ]
        },
        {
          "output_type": "execute_result",
          "data": {
            "text/plain": [
              "<keras.src.callbacks.History at 0x791c986a3190>"
            ]
          },
          "metadata": {},
          "execution_count": 67
        }
      ]
    },
    {
      "cell_type": "markdown",
      "source": [
        "# Week 3. Convolutional Neural Networks.\n",
        "- Conv2D and MaxPooling Layers.\n",
        "- Usually convolutional layer is followed by Pooling Layer (Max/Avg)\n",
        "- The convolutions filter it to the features that determine the output.\n",
        "- Pooling compresses the information to make it more manageable."
      ],
      "metadata": {
        "id": "OAT1Gpr4sso_"
      }
    },
    {
      "cell_type": "code",
      "source": [
        "model = keras.Sequential([\n",
        "    tf.keras.layers.Conv2D(filters=64, kernel_size=(3,3), activation='relu',\n",
        "                           input_shape=(28, 28, 1)), # 1 stands 1 byte. (1 color scale - gray)\n",
        "    tf.keras.layers.MaxPool2D(pool_size=(2,2)),\n",
        "    tf.keras.layers.Conv2D(64, (3,3), activation='relu'),\n",
        "    tf.keras.layers.MaxPool2D(pool_size=(2,2)),\n",
        "    tf.keras.layers.Flatten(),\n",
        "    tf.keras.layers.Dense(128, activation='relu'),\n",
        "    tf.keras.layers.Dense(10, activation='softmax')\n",
        "])"
      ],
      "metadata": {
        "id": "Hqlo1do5lYW-"
      },
      "execution_count": null,
      "outputs": []
    },
    {
      "cell_type": "code",
      "source": [
        "model.summary()"
      ],
      "metadata": {
        "colab": {
          "base_uri": "https://localhost:8080/"
        },
        "id": "Vet3Q2uqwlUY",
        "outputId": "a72e936f-848b-4fff-c7b2-8e05c21c966f"
      },
      "execution_count": null,
      "outputs": [
        {
          "output_type": "stream",
          "name": "stdout",
          "text": [
            "Model: \"sequential\"\n",
            "_________________________________________________________________\n",
            " Layer (type)                Output Shape              Param #   \n",
            "=================================================================\n",
            " conv2d (Conv2D)             (None, 26, 26, 64)        640       \n",
            "                                                                 \n",
            " max_pooling2d (MaxPooling2  (None, 13, 13, 64)        0         \n",
            " D)                                                              \n",
            "                                                                 \n",
            " conv2d_1 (Conv2D)           (None, 11, 11, 64)        36928     \n",
            "                                                                 \n",
            " max_pooling2d_1 (MaxPoolin  (None, 5, 5, 64)          0         \n",
            " g2D)                                                            \n",
            "                                                                 \n",
            " flatten (Flatten)           (None, 1600)              0         \n",
            "                                                                 \n",
            " dense (Dense)               (None, 128)               204928    \n",
            "                                                                 \n",
            " dense_1 (Dense)             (None, 10)                1290      \n",
            "                                                                 \n",
            "=================================================================\n",
            "Total params: 243786 (952.29 KB)\n",
            "Trainable params: 243786 (952.29 KB)\n",
            "Non-trainable params: 0 (0.00 Byte)\n",
            "_________________________________________________________________\n"
          ]
        }
      ]
    },
    {
      "cell_type": "markdown",
      "source": [
        "# Fashion Classifier with Convolutions"
      ],
      "metadata": {
        "id": "GZ6DeuFq0x9w"
      }
    },
    {
      "cell_type": "code",
      "source": [
        "# Load the Fashion MNIST dataset\n",
        "fmnist = tf.keras.datasets.fashion_mnist\n",
        "(training_images, training_labels), (test_images, test_labels) = fmnist.load_data()\n",
        "\n",
        "# Normalize the pixel values\n",
        "training_images = training_images / 255.0\n",
        "test_images = test_images / 255.0"
      ],
      "metadata": {
        "colab": {
          "base_uri": "https://localhost:8080/"
        },
        "id": "aThNRTTyyM3i",
        "outputId": "f541b502-3b6b-4300-873d-0ba20fcac508"
      },
      "execution_count": null,
      "outputs": [
        {
          "output_type": "stream",
          "name": "stdout",
          "text": [
            "Downloading data from https://storage.googleapis.com/tensorflow/tf-keras-datasets/train-labels-idx1-ubyte.gz\n",
            "29515/29515 [==============================] - 0s 0us/step\n",
            "Downloading data from https://storage.googleapis.com/tensorflow/tf-keras-datasets/train-images-idx3-ubyte.gz\n",
            "26421880/26421880 [==============================] - 0s 0us/step\n",
            "Downloading data from https://storage.googleapis.com/tensorflow/tf-keras-datasets/t10k-labels-idx1-ubyte.gz\n",
            "5148/5148 [==============================] - 0s 0us/step\n",
            "Downloading data from https://storage.googleapis.com/tensorflow/tf-keras-datasets/t10k-images-idx3-ubyte.gz\n",
            "4422102/4422102 [==============================] - 0s 0us/step\n"
          ]
        }
      ]
    },
    {
      "cell_type": "markdown",
      "source": [
        "# Shallow Neural Network"
      ],
      "metadata": {
        "id": "01MDCwb_80f_"
      }
    },
    {
      "cell_type": "code",
      "source": [
        "# Define the model\n",
        "model = tf.keras.models.Sequential([\n",
        "  tf.keras.layers.Flatten(),\n",
        "  tf.keras.layers.Dense(128, activation=tf.nn.relu),\n",
        "  tf.keras.layers.Dense(10, activation=tf.nn.softmax)\n",
        "])\n",
        "\n",
        "# Setup training parameters\n",
        "model.compile(optimizer='adam', loss='sparse_categorical_crossentropy', metrics=['accuracy'])\n",
        "\n",
        "# Train the model\n",
        "print(f'\\nMODEL TRAINING:')\n",
        "model.fit(training_images, training_labels, epochs=5)\n",
        "\n",
        "# Evaluate on the test set\n",
        "print(f'\\nMODEL EVALUATION:')\n",
        "test_loss = model.evaluate(test_images, test_labels)"
      ],
      "metadata": {
        "colab": {
          "base_uri": "https://localhost:8080/"
        },
        "id": "5_DZJXu38urZ",
        "outputId": "25a4f424-9e3c-4d07-8a92-c399f9a7b0a3"
      },
      "execution_count": null,
      "outputs": [
        {
          "output_type": "stream",
          "name": "stdout",
          "text": [
            "\n",
            "MODEL TRAINING:\n",
            "Epoch 1/5\n",
            "1875/1875 [==============================] - 11s 3ms/step - loss: 0.4981 - accuracy: 0.8257\n",
            "Epoch 2/5\n",
            "1875/1875 [==============================] - 5s 2ms/step - loss: 0.3711 - accuracy: 0.8655\n",
            "Epoch 3/5\n",
            "1875/1875 [==============================] - 5s 2ms/step - loss: 0.3339 - accuracy: 0.8777\n",
            "Epoch 4/5\n",
            "1875/1875 [==============================] - 5s 3ms/step - loss: 0.3118 - accuracy: 0.8857\n",
            "Epoch 5/5\n",
            "1875/1875 [==============================] - 6s 3ms/step - loss: 0.2961 - accuracy: 0.8919\n",
            "\n",
            "MODEL EVALUATION:\n",
            "313/313 [==============================] - 1s 2ms/step - loss: 0.3589 - accuracy: 0.8722\n"
          ]
        }
      ]
    },
    {
      "cell_type": "markdown",
      "source": [
        "# Convolutional Neural Network"
      ],
      "metadata": {
        "id": "Pzkvvqdj85Xr"
      }
    },
    {
      "cell_type": "code",
      "source": [
        "# Define the model\n",
        "model = tf.keras.models.Sequential([\n",
        "\n",
        "  # Add convolutions and max pooling\n",
        "  tf.keras.layers.Conv2D(32, (3,3), activation='relu', input_shape=(28, 28, 1)),\n",
        "  tf.keras.layers.MaxPooling2D(2, 2),\n",
        "  tf.keras.layers.Conv2D(32, (3,3), activation='relu'),\n",
        "  tf.keras.layers.MaxPooling2D(2,2),\n",
        "\n",
        "  # Add the same layers as before\n",
        "  tf.keras.layers.Flatten(),\n",
        "  tf.keras.layers.Dense(128, activation='relu'),\n",
        "  tf.keras.layers.Dense(10, activation='softmax')\n",
        "])\n",
        "\n",
        "# Print the model summary\n",
        "model.summary()"
      ],
      "metadata": {
        "colab": {
          "base_uri": "https://localhost:8080/"
        },
        "id": "w0JyPp9a82m2",
        "outputId": "6e1cb5bf-c7c3-454f-fe03-c45a17c7dc8c"
      },
      "execution_count": null,
      "outputs": [
        {
          "output_type": "stream",
          "name": "stdout",
          "text": [
            "Model: \"sequential_2\"\n",
            "_________________________________________________________________\n",
            " Layer (type)                Output Shape              Param #   \n",
            "=================================================================\n",
            " conv2d_2 (Conv2D)           (None, 26, 26, 32)        320       \n",
            "                                                                 \n",
            " max_pooling2d_2 (MaxPoolin  (None, 13, 13, 32)        0         \n",
            " g2D)                                                            \n",
            "                                                                 \n",
            " conv2d_3 (Conv2D)           (None, 11, 11, 32)        9248      \n",
            "                                                                 \n",
            " max_pooling2d_3 (MaxPoolin  (None, 5, 5, 32)          0         \n",
            " g2D)                                                            \n",
            "                                                                 \n",
            " flatten_2 (Flatten)         (None, 800)               0         \n",
            "                                                                 \n",
            " dense_4 (Dense)             (None, 128)               102528    \n",
            "                                                                 \n",
            " dense_5 (Dense)             (None, 10)                1290      \n",
            "                                                                 \n",
            "=================================================================\n",
            "Total params: 113386 (442.91 KB)\n",
            "Trainable params: 113386 (442.91 KB)\n",
            "Non-trainable params: 0 (0.00 Byte)\n",
            "_________________________________________________________________\n"
          ]
        }
      ]
    },
    {
      "cell_type": "code",
      "source": [
        "# Use same settings\n",
        "model.compile(optimizer='adam', loss='sparse_categorical_crossentropy', metrics=['accuracy'])\n",
        "\n",
        "# Train the model\n",
        "print(f'\\nMODEL TRAINING:')\n",
        "model.fit(training_images, training_labels, epochs=5)\n",
        "\n",
        "# Evaluate on the test set\n",
        "print(f'\\nMODEL EVALUATION:')\n",
        "test_loss = model.evaluate(test_images, test_labels)"
      ],
      "metadata": {
        "colab": {
          "base_uri": "https://localhost:8080/"
        },
        "id": "3KFNXOI_8-oF",
        "outputId": "a6ff0cf0-9a63-49cd-a928-efa6e7b03edf"
      },
      "execution_count": null,
      "outputs": [
        {
          "output_type": "stream",
          "name": "stdout",
          "text": [
            "\n",
            "MODEL TRAINING:\n",
            "Epoch 1/5\n",
            "1875/1875 [==============================] - 12s 3ms/step - loss: 0.4762 - accuracy: 0.8266\n",
            "Epoch 2/5\n",
            "1875/1875 [==============================] - 7s 4ms/step - loss: 0.3223 - accuracy: 0.8816\n",
            "Epoch 3/5\n",
            "1875/1875 [==============================] - 6s 3ms/step - loss: 0.2788 - accuracy: 0.8974\n",
            "Epoch 4/5\n",
            "1875/1875 [==============================] - 7s 4ms/step - loss: 0.2482 - accuracy: 0.9092\n",
            "Epoch 5/5\n",
            "1875/1875 [==============================] - 6s 3ms/step - loss: 0.2233 - accuracy: 0.9165\n",
            "\n",
            "MODEL EVALUATION:\n",
            "313/313 [==============================] - 1s 3ms/step - loss: 0.2755 - accuracy: 0.8996\n"
          ]
        }
      ]
    },
    {
      "cell_type": "markdown",
      "source": [
        "# Visualizing the Convolutions and Pooling\n",
        "- 1st conv - 1st pool - 2nd conv - 2nd pool\n",
        "- size of the image is changed (look at the axes numbers)"
      ],
      "metadata": {
        "id": "hg3k_Gvb9W5b"
      }
    },
    {
      "cell_type": "code",
      "source": [
        "print(test_labels[:100])"
      ],
      "metadata": {
        "colab": {
          "base_uri": "https://localhost:8080/"
        },
        "id": "Zf0yuxpI9EvS",
        "outputId": "30975d18-2dfc-4714-dd65-4d37ab720171"
      },
      "execution_count": null,
      "outputs": [
        {
          "output_type": "stream",
          "name": "stdout",
          "text": [
            "[9 2 1 1 6 1 4 6 5 7 4 5 7 3 4 1 2 4 8 0 2 5 7 9 1 4 6 0 9 3 8 8 3 3 8 0 7\n",
            " 5 7 9 6 1 3 7 6 7 2 1 2 2 4 4 5 8 2 2 8 4 8 0 7 7 8 5 1 1 2 3 9 8 7 0 2 6\n",
            " 2 3 1 2 8 4 1 8 5 9 5 0 3 2 0 6 5 3 6 7 1 8 0 1 4 2]\n"
          ]
        }
      ]
    },
    {
      "cell_type": "code",
      "source": [
        "test_labels[[0, 23, 28]]"
      ],
      "metadata": {
        "colab": {
          "base_uri": "https://localhost:8080/"
        },
        "id": "P5j5iiwV-LMk",
        "outputId": "7bde80c7-0632-4de1-9726-d86d812b29be"
      },
      "execution_count": null,
      "outputs": [
        {
          "output_type": "execute_result",
          "data": {
            "text/plain": [
              "array([9, 9, 9], dtype=uint8)"
            ]
          },
          "metadata": {},
          "execution_count": 11
        }
      ]
    },
    {
      "cell_type": "code",
      "source": [
        "[layer.output for layer in model.layers]"
      ],
      "metadata": {
        "colab": {
          "base_uri": "https://localhost:8080/"
        },
        "id": "iFH2i2d8EWpV",
        "outputId": "e411a89a-bfcd-4609-b544-e9965a50ff59"
      },
      "execution_count": null,
      "outputs": [
        {
          "output_type": "execute_result",
          "data": {
            "text/plain": [
              "[<KerasTensor: shape=(None, 26, 26, 32) dtype=float32 (created by layer 'conv2d_2')>,\n",
              " <KerasTensor: shape=(None, 13, 13, 32) dtype=float32 (created by layer 'max_pooling2d_2')>,\n",
              " <KerasTensor: shape=(None, 11, 11, 32) dtype=float32 (created by layer 'conv2d_3')>,\n",
              " <KerasTensor: shape=(None, 5, 5, 32) dtype=float32 (created by layer 'max_pooling2d_3')>,\n",
              " <KerasTensor: shape=(None, 800) dtype=float32 (created by layer 'flatten_2')>,\n",
              " <KerasTensor: shape=(None, 128) dtype=float32 (created by layer 'dense_4')>,\n",
              " <KerasTensor: shape=(None, 10) dtype=float32 (created by layer 'dense_5')>]"
            ]
          },
          "metadata": {},
          "execution_count": 12
        }
      ]
    },
    {
      "cell_type": "code",
      "source": [
        "import matplotlib.pyplot as plt\n",
        "from tensorflow.keras import models\n",
        "\n",
        "f, axarr = plt.subplots(3,4)\n",
        "\n",
        "# Try different images, convolutions.\n",
        "# See what different convolutions capture from the similar/diffrent images.\n",
        "\n",
        "FIRST_IMAGE=0 # (0,23,28) ; (0,23,1) ; (0,23,2)\n",
        "SECOND_IMAGE=23\n",
        "THIRD_IMAGE=2\n",
        "CONVOLUTION_NUMBER = 1 # total : 64 ?\n",
        "\n",
        "layer_outputs = [layer.output for layer in model.layers]\n",
        "activation_model = tf.keras.models.Model(inputs = model.input, outputs = layer_outputs)\n",
        "\n",
        "for x in range(0,4):\n",
        "  f1 = activation_model.predict(test_images[FIRST_IMAGE].reshape(1, 28, 28, 1))[x]\n",
        "  axarr[0,x].imshow(f1[0, : , :, CONVOLUTION_NUMBER], cmap='inferno')\n",
        "  axarr[0,x].grid(False)\n",
        "\n",
        "  f2 = activation_model.predict(test_images[SECOND_IMAGE].reshape(1, 28, 28, 1))[x]\n",
        "  axarr[1,x].imshow(f2[0, : , :, CONVOLUTION_NUMBER], cmap='inferno')\n",
        "  axarr[1,x].grid(False)\n",
        "\n",
        "  f3 = activation_model.predict(test_images[THIRD_IMAGE].reshape(1, 28, 28, 1))[x]\n",
        "  axarr[2,x].imshow(f3[0, : , :, CONVOLUTION_NUMBER], cmap='inferno')\n",
        "  axarr[2,x].grid(False)"
      ],
      "metadata": {
        "colab": {
          "base_uri": "https://localhost:8080/",
          "height": 636
        },
        "id": "6RWML9Ym99Br",
        "outputId": "ffb91962-6831-41f5-dcab-a24ec9fbc527"
      },
      "execution_count": null,
      "outputs": [
        {
          "output_type": "stream",
          "name": "stdout",
          "text": [
            "1/1 [==============================] - 0s 163ms/step\n",
            "1/1 [==============================] - 0s 50ms/step\n",
            "1/1 [==============================] - 0s 28ms/step\n",
            "1/1 [==============================] - 0s 36ms/step\n",
            "1/1 [==============================] - 0s 38ms/step\n",
            "1/1 [==============================] - 0s 66ms/step\n",
            "1/1 [==============================] - 0s 108ms/step\n",
            "1/1 [==============================] - 0s 99ms/step\n",
            "1/1 [==============================] - 0s 135ms/step\n",
            "1/1 [==============================] - 0s 41ms/step\n",
            "1/1 [==============================] - 0s 29ms/step\n",
            "1/1 [==============================] - 0s 28ms/step\n"
          ]
        },
        {
          "output_type": "display_data",
          "data": {
            "text/plain": [
              "<Figure size 640x480 with 12 Axes>"
            ],
            "image/png": "[encoded data removed]"
          },
          "metadata": {}
        }
      ]
    },
    {
      "cell_type": "code",
      "source": [],
      "metadata": {
        "id": "li3knaez9_PP"
      },
      "execution_count": null,
      "outputs": []
    }
  ]
}