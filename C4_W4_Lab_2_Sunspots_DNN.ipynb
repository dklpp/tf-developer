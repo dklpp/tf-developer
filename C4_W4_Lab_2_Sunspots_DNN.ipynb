{
  "cells": [
    {
      "cell_type": "markdown",
      "metadata": {
        "id": "view-in-github",
        "colab_type": "text"
      },
      "source": [
        "<a href=\"https://colab.research.google.com/github/dklpp/tf-developer/blob/main/C4_W4_Lab_2_Sunspots_DNN.ipynb\" target=\"_parent\"><img src=\"https://colab.research.google.com/assets/colab-badge.svg\" alt=\"Open In Colab\"/></a>"
      ]
    },
    {
      "cell_type": "markdown",
      "metadata": {
        "id": "5Ktf_SZ4maEm"
      },
      "source": [
        "<a href=\"https://colab.research.google.com/github/https-deeplearning-ai/tensorflow-1-public/blob/main/C4/W4/ungraded_labs/C4_W4_Lab_2_Sunspots_DNN.ipynb\" target=\"_parent\"><img src=\"https://colab.research.google.com/assets/colab-badge.svg\" alt=\"Open In Colab\"/></a>"
      ]
    },
    {
      "cell_type": "markdown",
      "metadata": {
        "id": "JQsk1BKwZrBh"
      },
      "source": [
        "# Ungraded Lab: Predicting Sunspots with Neural Networks (DNN only)\n",
        "\n",
        "In the remaining labs for this week, you will move away from synthetic time series and start building models for real world data. In particular, you will train on the [Sunspots](https://www.kaggle.com/datasets/robervalt/sunspots) dataset: a monthly record of sunspot numbers from January 1749 to July 2018. You will first build a deep neural network here composed of dense layers. This will act as your baseline so you can compare it to the next lab where you will use a more complex architecture.\n",
        "\n",
        "Let's begin!"
      ]
    },
    {
      "cell_type": "markdown",
      "metadata": {
        "id": "2JHlrB12aeFD"
      },
      "source": [
        "## Imports\n",
        "\n",
        "You will use the same imports as before with the addition of the [csv](https://docs.python.org/3/library/csv.html) module. You will need this to parse the CSV file containing the dataset."
      ]
    },
    {
      "cell_type": "code",
      "execution_count": 1,
      "metadata": {
        "id": "56XEQOGknrAk"
      },
      "outputs": [],
      "source": [
        "import tensorflow as tf\n",
        "import numpy as np\n",
        "import matplotlib.pyplot as plt\n",
        "import csv"
      ]
    },
    {
      "cell_type": "markdown",
      "metadata": {
        "id": "D-mNttnaagBH"
      },
      "source": [
        "## Utilities\n",
        "\n",
        "You will only have the `plot_series()` dataset here because you no longer need the synthetic data generation functions."
      ]
    },
    {
      "cell_type": "code",
      "execution_count": 16,
      "metadata": {
        "id": "sLl52leVp5wU"
      },
      "outputs": [],
      "source": [
        "def plot_series(x, y, format=\"-\", start=0, end=None,\n",
        "                title=None, xlabel=None, ylabel=None, legend=None ):\n",
        "    \"\"\"\n",
        "    Visualizes time series data\n",
        "\n",
        "    Args:\n",
        "      x (array of int) - contains values for the x-axis\n",
        "      y (array of int or tuple of arrays) - contains the values for the y-axis\n",
        "      format (string) - line style when plotting the graph\n",
        "      label (string) - tag for the line\n",
        "      start (int) - first time step to plot\n",
        "      end (int) - last time step to plot\n",
        "      title (string) - title of the plot\n",
        "      xlabel (string) - label for the x-axis\n",
        "      ylabel (string) - label for the y-axis\n",
        "      legend (list of strings) - legend for the plot\n",
        "    \"\"\"\n",
        "\n",
        "    # Setup dimensions of the graph figure\n",
        "    plt.figure(figsize=(10, 6))\n",
        "\n",
        "    # Check if there are more than two series to plot\n",
        "    if type(y) is tuple:\n",
        "\n",
        "      # Loop over the y elements\n",
        "      for y_curr in y:\n",
        "\n",
        "        # Plot the x and current y values\n",
        "        plt.plot(x[start:end], y_curr[start:end], format)\n",
        "\n",
        "    else:\n",
        "      # Plot the x and y values\n",
        "      plt.plot(x[start:end], y[start:end], format)\n",
        "\n",
        "    # Label the x-axis\n",
        "    plt.xlabel(xlabel)\n",
        "\n",
        "    # Label the y-axis\n",
        "    plt.ylabel(ylabel)\n",
        "\n",
        "    # Set the legend\n",
        "    if legend:\n",
        "      plt.legend(legend)\n",
        "\n",
        "    # Set the title\n",
        "    plt.title(title)\n",
        "\n",
        "    # Overlay a grid on the graph\n",
        "    plt.grid(True)\n",
        "\n",
        "    # Draw the graph on screen\n",
        "    plt.show()"
      ]
    },
    {
      "cell_type": "markdown",
      "metadata": {
        "id": "dFJv45pDauS8"
      },
      "source": [
        "## Download and Preview the Dataset\n",
        "\n",
        "You can now download the dataset and inspect the contents. The link in class is from Laurence's repo but we also hosted it in the link below."
      ]
    },
    {
      "cell_type": "code",
      "execution_count": 3,
      "metadata": {
        "id": "YwI-si5xyUkQ",
        "colab": {
          "base_uri": "https://localhost:8080/"
        },
        "outputId": "d35c9f61-955c-4114-a0e6-01c21c91b87b"
      },
      "outputs": [
        {
          "output_type": "stream",
          "name": "stdout",
          "text": [
            "--2023-12-08 18:08:11--  https://storage.googleapis.com/tensorflow-1-public/course4/Sunspots.csv\n",
            "Resolving storage.googleapis.com (storage.googleapis.com)... 173.194.195.207, 173.194.196.207, 173.194.197.207, ...\n",
            "Connecting to storage.googleapis.com (storage.googleapis.com)|173.194.195.207|:443... connected.\n",
            "HTTP request sent, awaiting response... 200 OK\n",
            "Length: 70827 (69K) [text/csv]\n",
            "Saving to: ‘Sunspots.csv.1’\n",
            "\n",
            "\rSunspots.csv.1        0%[                    ]       0  --.-KB/s               \rSunspots.csv.1      100%[===================>]  69.17K  --.-KB/s    in 0s      \n",
            "\n",
            "2023-12-08 18:08:11 (175 MB/s) - ‘Sunspots.csv.1’ saved [70827/70827]\n",
            "\n"
          ]
        }
      ],
      "source": [
        "# Download the dataset\n",
        "!wget https://storage.googleapis.com/tensorflow-1-public/course4/Sunspots.csv"
      ]
    },
    {
      "cell_type": "markdown",
      "metadata": {
        "id": "c0fAiMytrwPJ"
      },
      "source": [
        "Running the cell below, you'll see that there are only three columns in the dataset:\n",
        "1. untitled column containing the month number\n",
        "2. Date which has the format `YYYY-MM-DD`\n",
        "3. Mean Total Sunspot Number"
      ]
    },
    {
      "cell_type": "code",
      "execution_count": 4,
      "metadata": {
        "id": "d5W2auXKrhVh",
        "colab": {
          "base_uri": "https://localhost:8080/"
        },
        "outputId": "8de8cfb2-2f02-4e7e-a4a4-7b866faffff7"
      },
      "outputs": [
        {
          "output_type": "stream",
          "name": "stdout",
          "text": [
            ",Date,Monthly Mean Total Sunspot Number\r\n",
            "0,1749-01-31,96.7\r\n",
            "1,1749-02-28,104.3\r\n",
            "2,1749-03-31,116.7\r\n",
            "3,1749-04-30,92.8\r\n",
            "4,1749-05-31,141.7\r\n",
            "5,1749-06-30,139.2\r\n",
            "6,1749-07-31,158.0\r\n",
            "7,1749-08-31,110.5\r\n",
            "8,1749-09-30,126.5\r\n"
          ]
        }
      ],
      "source": [
        "# Preview the dataset\n",
        "!head Sunspots.csv"
      ]
    },
    {
      "cell_type": "markdown",
      "metadata": {
        "id": "lbs-Y2SDsVaw"
      },
      "source": [
        "For this lab and the next, you will only need the month number and the mean total sunspot number. You will load those into memory and convert it to arrays that represents a time series."
      ]
    },
    {
      "cell_type": "code",
      "execution_count": 5,
      "metadata": {
        "id": "NcG9r1eClbTh",
        "colab": {
          "base_uri": "https://localhost:8080/",
          "height": 208
        },
        "outputId": "8c4ca979-6d1e-4af1-eab9-9ca7b4eaee39"
      },
      "outputs": [
        {
          "output_type": "error",
          "ename": "NameError",
          "evalue": "ignored",
          "traceback": [
            "\u001b[0;31m---------------------------------------------------------------------------\u001b[0m",
            "\u001b[0;31mNameError\u001b[0m                                 Traceback (most recent call last)",
            "\u001b[0;32m<ipython-input-5-283a6f148906>\u001b[0m in \u001b[0;36m<cell line: 24>\u001b[0;34m()\u001b[0m\n\u001b[1;32m     22\u001b[0m \u001b[0;34m\u001b[0m\u001b[0m\n\u001b[1;32m     23\u001b[0m \u001b[0;31m# Preview the data\u001b[0m\u001b[0;34m\u001b[0m\u001b[0;34m\u001b[0m\u001b[0m\n\u001b[0;32m---> 24\u001b[0;31m \u001b[0mplot_series\u001b[0m\u001b[0;34m(\u001b[0m\u001b[0mtime\u001b[0m\u001b[0;34m,\u001b[0m \u001b[0mseries\u001b[0m\u001b[0;34m,\u001b[0m \u001b[0mxlabel\u001b[0m\u001b[0;34m=\u001b[0m\u001b[0;34m'Month'\u001b[0m\u001b[0;34m,\u001b[0m \u001b[0mylabel\u001b[0m\u001b[0;34m=\u001b[0m\u001b[0;34m'Monthly Mean Total Sunspot Number'\u001b[0m\u001b[0;34m)\u001b[0m\u001b[0;34m\u001b[0m\u001b[0;34m\u001b[0m\u001b[0m\n\u001b[0m",
            "\u001b[0;31mNameError\u001b[0m: name 'plot_series' is not defined"
          ]
        }
      ],
      "source": [
        "# Initialize lists\n",
        "time_step = []\n",
        "sunspots = []\n",
        "\n",
        "# Open CSV file\n",
        "with open('./Sunspots.csv') as csvfile:\n",
        "\n",
        "  # Initialize reader\n",
        "  reader = csv.reader(csvfile, delimiter=',')\n",
        "\n",
        "  # Skip the first line\n",
        "  next(reader)\n",
        "\n",
        "  # Append row and sunspot number to lists\n",
        "  for row in reader:\n",
        "    time_step.append(int(row[0]))\n",
        "    sunspots.append(float(row[2]))\n",
        "\n",
        "# Convert lists to numpy arrays\n",
        "time = np.array(time_step)\n",
        "series = np.array(sunspots)\n",
        "\n",
        "# Preview the data\n",
        "plot_series(time, series, xlabel='Month', ylabel='Monthly Mean Total Sunspot Number')"
      ]
    },
    {
      "cell_type": "markdown",
      "metadata": {
        "id": "EUQE9RRoazC5"
      },
      "source": [
        "## Split the Dataset\n",
        "\n",
        "Next, you will split the dataset into training and validation sets. There are 3235 points in the dataset and you will use the first 3000 for training."
      ]
    },
    {
      "cell_type": "code",
      "execution_count": 6,
      "metadata": {
        "id": "L92YRw_IpCFG"
      },
      "outputs": [],
      "source": [
        "# Define the split time\n",
        "split_time = 3000\n",
        "\n",
        "# Get the train set\n",
        "time_train = time[:split_time]\n",
        "x_train = series[:split_time]\n",
        "\n",
        "# Get the validation set\n",
        "time_valid = time[split_time:]\n",
        "x_valid = series[split_time:]"
      ]
    },
    {
      "cell_type": "markdown",
      "metadata": {
        "id": "RbuIOrb3a093"
      },
      "source": [
        "## Prepare Features and Labels\n",
        "\n",
        "You can then prepare the dataset windows as before. The window size is set to 30 points (equal to 2.5 years) but feel free to change later on if you want to experiment."
      ]
    },
    {
      "cell_type": "code",
      "execution_count": 7,
      "metadata": {
        "id": "lJwUUZscnG38"
      },
      "outputs": [],
      "source": [
        "def windowed_dataset(series, window_size, batch_size, shuffle_buffer):\n",
        "    \"\"\"Generates dataset windows\n",
        "\n",
        "    Args:\n",
        "      series (array of float) - contains the values of the time series\n",
        "      window_size (int) - the number of time steps to include in the feature\n",
        "      batch_size (int) - the batch size\n",
        "      shuffle_buffer(int) - buffer size to use for the shuffle method\n",
        "\n",
        "    Returns:\n",
        "      dataset (TF Dataset) - TF Dataset containing time windows\n",
        "    \"\"\"\n",
        "\n",
        "    # Generate a TF Dataset from the series values\n",
        "    dataset = tf.data.Dataset.from_tensor_slices(series)\n",
        "\n",
        "    # Window the data but only take those with the specified size\n",
        "    dataset = dataset.window(window_size + 1, shift=1, drop_remainder=True)\n",
        "\n",
        "    # Flatten the windows by putting its elements in a single batch\n",
        "    dataset = dataset.flat_map(lambda window: window.batch(window_size + 1))\n",
        "\n",
        "    # Create tuples with features and labels\n",
        "    dataset = dataset.map(lambda window: (window[:-1], window[-1]))\n",
        "\n",
        "    # Shuffle the windows\n",
        "    dataset = dataset.shuffle(shuffle_buffer)\n",
        "\n",
        "    # Create batches of windows\n",
        "    dataset = dataset.batch(batch_size).prefetch(1)\n",
        "\n",
        "    return dataset"
      ]
    },
    {
      "cell_type": "code",
      "execution_count": 8,
      "metadata": {
        "id": "9g5zSxZwZQt_"
      },
      "outputs": [],
      "source": [
        "# Parameters\n",
        "window_size = 30\n",
        "batch_size = 32\n",
        "shuffle_buffer_size = 1000\n",
        "\n",
        "# Generate the dataset windows\n",
        "train_set = windowed_dataset(x_train, window_size, batch_size, shuffle_buffer_size)"
      ]
    },
    {
      "cell_type": "markdown",
      "metadata": {
        "id": "_Lhpi42ta5yP"
      },
      "source": [
        "## Build the Model\n",
        "\n",
        "The model will be 3-layer dense network as shown below."
      ]
    },
    {
      "cell_type": "code",
      "execution_count": 9,
      "metadata": {
        "id": "AclfYY3Mn6Ph",
        "colab": {
          "base_uri": "https://localhost:8080/"
        },
        "outputId": "47c24659-81f3-4ddc-dce1-c768dec772dc"
      },
      "outputs": [
        {
          "output_type": "stream",
          "name": "stdout",
          "text": [
            "Model: \"sequential\"\n",
            "_________________________________________________________________\n",
            " Layer (type)                Output Shape              Param #   \n",
            "=================================================================\n",
            " dense (Dense)               (None, 30)                930       \n",
            "                                                                 \n",
            " dense_1 (Dense)             (None, 10)                310       \n",
            "                                                                 \n",
            " dense_2 (Dense)             (None, 1)                 11        \n",
            "                                                                 \n",
            "=================================================================\n",
            "Total params: 1251 (4.89 KB)\n",
            "Trainable params: 1251 (4.89 KB)\n",
            "Non-trainable params: 0 (0.00 Byte)\n",
            "_________________________________________________________________\n"
          ]
        }
      ],
      "source": [
        "# Build the model\n",
        "model = tf.keras.models.Sequential([\n",
        "    tf.keras.layers.Dense(30, input_shape=[window_size], activation=\"relu\"),\n",
        "    tf.keras.layers.Dense(10, activation=\"relu\"),\n",
        "    tf.keras.layers.Dense(1)\n",
        "])\n",
        "\n",
        "# Print the model summary\n",
        "model.summary()"
      ]
    },
    {
      "cell_type": "markdown",
      "metadata": {
        "id": "uyT14hQOa97V"
      },
      "source": [
        "## Tune the Learning Rate\n",
        "\n",
        "You can pick a learning rate by running the same learning rate scheduler code from previous labs."
      ]
    },
    {
      "cell_type": "code",
      "execution_count": 10,
      "metadata": {
        "id": "GXiqsZQ1y4nD",
        "colab": {
          "base_uri": "https://localhost:8080/"
        },
        "outputId": "0a4e14a4-3d26-47c6-adb1-9a1d6f900e39"
      },
      "outputs": [
        {
          "output_type": "stream",
          "name": "stdout",
          "text": [
            "Epoch 1/100\n",
            "93/93 [==============================] - 8s 8ms/step - loss: 46.5976 - lr: 1.0000e-08\n",
            "Epoch 2/100\n",
            "93/93 [==============================] - 1s 6ms/step - loss: 45.7901 - lr: 1.1220e-08\n",
            "Epoch 3/100\n",
            "93/93 [==============================] - 1s 10ms/step - loss: 44.9207 - lr: 1.2589e-08\n",
            "Epoch 4/100\n",
            "93/93 [==============================] - 1s 5ms/step - loss: 44.0179 - lr: 1.4125e-08\n",
            "Epoch 5/100\n",
            "93/93 [==============================] - 1s 5ms/step - loss: 43.0891 - lr: 1.5849e-08\n",
            "Epoch 6/100\n",
            "93/93 [==============================] - 1s 5ms/step - loss: 42.1528 - lr: 1.7783e-08\n",
            "Epoch 7/100\n",
            "93/93 [==============================] - 1s 5ms/step - loss: 41.2106 - lr: 1.9953e-08\n",
            "Epoch 8/100\n",
            "93/93 [==============================] - 1s 5ms/step - loss: 40.2727 - lr: 2.2387e-08\n",
            "Epoch 9/100\n",
            "93/93 [==============================] - 1s 7ms/step - loss: 39.3593 - lr: 2.5119e-08\n",
            "Epoch 10/100\n",
            "93/93 [==============================] - 1s 9ms/step - loss: 38.4966 - lr: 2.8184e-08\n",
            "Epoch 11/100\n",
            "93/93 [==============================] - 1s 9ms/step - loss: 37.6854 - lr: 3.1623e-08\n",
            "Epoch 12/100\n",
            "93/93 [==============================] - 1s 9ms/step - loss: 36.9639 - lr: 3.5481e-08\n",
            "Epoch 13/100\n",
            "93/93 [==============================] - 1s 5ms/step - loss: 36.3200 - lr: 3.9811e-08\n",
            "Epoch 14/100\n",
            "93/93 [==============================] - 1s 5ms/step - loss: 35.7414 - lr: 4.4668e-08\n",
            "Epoch 15/100\n",
            "93/93 [==============================] - 1s 5ms/step - loss: 35.2047 - lr: 5.0119e-08\n",
            "Epoch 16/100\n",
            "93/93 [==============================] - 1s 5ms/step - loss: 34.7314 - lr: 5.6234e-08\n",
            "Epoch 17/100\n",
            "93/93 [==============================] - 1s 5ms/step - loss: 34.3111 - lr: 6.3096e-08\n",
            "Epoch 18/100\n",
            "93/93 [==============================] - 1s 6ms/step - loss: 33.9275 - lr: 7.0795e-08\n",
            "Epoch 19/100\n",
            "93/93 [==============================] - 1s 6ms/step - loss: 33.5356 - lr: 7.9433e-08\n",
            "Epoch 20/100\n",
            "93/93 [==============================] - 1s 5ms/step - loss: 33.1398 - lr: 8.9125e-08\n",
            "Epoch 21/100\n",
            "93/93 [==============================] - 1s 5ms/step - loss: 32.7161 - lr: 1.0000e-07\n",
            "Epoch 22/100\n",
            "93/93 [==============================] - 1s 5ms/step - loss: 32.2580 - lr: 1.1220e-07\n",
            "Epoch 23/100\n",
            "93/93 [==============================] - 1s 5ms/step - loss: 31.7693 - lr: 1.2589e-07\n",
            "Epoch 24/100\n",
            "93/93 [==============================] - 1s 5ms/step - loss: 31.2397 - lr: 1.4125e-07\n",
            "Epoch 25/100\n",
            "93/93 [==============================] - 1s 5ms/step - loss: 30.6764 - lr: 1.5849e-07\n",
            "Epoch 26/100\n",
            "93/93 [==============================] - 1s 5ms/step - loss: 30.0943 - lr: 1.7783e-07\n",
            "Epoch 27/100\n",
            "93/93 [==============================] - 1s 5ms/step - loss: 29.4730 - lr: 1.9953e-07\n",
            "Epoch 28/100\n",
            "93/93 [==============================] - 1s 9ms/step - loss: 28.8297 - lr: 2.2387e-07\n",
            "Epoch 29/100\n",
            "93/93 [==============================] - 1s 9ms/step - loss: 28.1780 - lr: 2.5119e-07\n",
            "Epoch 30/100\n",
            "93/93 [==============================] - 1s 9ms/step - loss: 27.5235 - lr: 2.8184e-07\n",
            "Epoch 31/100\n",
            "93/93 [==============================] - 1s 5ms/step - loss: 26.8796 - lr: 3.1623e-07\n",
            "Epoch 32/100\n",
            "93/93 [==============================] - 1s 5ms/step - loss: 26.2771 - lr: 3.5481e-07\n",
            "Epoch 33/100\n",
            "93/93 [==============================] - 1s 5ms/step - loss: 25.6783 - lr: 3.9811e-07\n",
            "Epoch 34/100\n",
            "93/93 [==============================] - 1s 5ms/step - loss: 25.0768 - lr: 4.4668e-07\n",
            "Epoch 35/100\n",
            "93/93 [==============================] - 1s 5ms/step - loss: 24.5415 - lr: 5.0119e-07\n",
            "Epoch 36/100\n",
            "93/93 [==============================] - 1s 5ms/step - loss: 24.0174 - lr: 5.6234e-07\n",
            "Epoch 37/100\n",
            "93/93 [==============================] - 1s 5ms/step - loss: 23.5675 - lr: 6.3096e-07\n",
            "Epoch 38/100\n",
            "93/93 [==============================] - 1s 5ms/step - loss: 23.1682 - lr: 7.0795e-07\n",
            "Epoch 39/100\n",
            "93/93 [==============================] - 1s 5ms/step - loss: 22.7255 - lr: 7.9433e-07\n",
            "Epoch 40/100\n",
            "93/93 [==============================] - 1s 5ms/step - loss: 22.3628 - lr: 8.9125e-07\n",
            "Epoch 41/100\n",
            "93/93 [==============================] - 1s 5ms/step - loss: 22.0123 - lr: 1.0000e-06\n",
            "Epoch 42/100\n",
            "93/93 [==============================] - 1s 5ms/step - loss: 21.6884 - lr: 1.1220e-06\n",
            "Epoch 43/100\n",
            "93/93 [==============================] - 1s 5ms/step - loss: 21.3355 - lr: 1.2589e-06\n",
            "Epoch 44/100\n",
            "93/93 [==============================] - 1s 5ms/step - loss: 21.0204 - lr: 1.4125e-06\n",
            "Epoch 45/100\n",
            "93/93 [==============================] - 1s 5ms/step - loss: 20.7884 - lr: 1.5849e-06\n",
            "Epoch 46/100\n",
            "93/93 [==============================] - 1s 5ms/step - loss: 20.4494 - lr: 1.7783e-06\n",
            "Epoch 47/100\n",
            "93/93 [==============================] - 1s 9ms/step - loss: 20.0878 - lr: 1.9953e-06\n",
            "Epoch 48/100\n",
            "93/93 [==============================] - 1s 9ms/step - loss: 19.8768 - lr: 2.2387e-06\n",
            "Epoch 49/100\n",
            "93/93 [==============================] - 1s 9ms/step - loss: 19.5536 - lr: 2.5119e-06\n",
            "Epoch 50/100\n",
            "93/93 [==============================] - 1s 9ms/step - loss: 19.3129 - lr: 2.8184e-06\n",
            "Epoch 51/100\n",
            "93/93 [==============================] - 1s 5ms/step - loss: 19.1450 - lr: 3.1623e-06\n",
            "Epoch 52/100\n",
            "93/93 [==============================] - 1s 5ms/step - loss: 19.0320 - lr: 3.5481e-06\n",
            "Epoch 53/100\n",
            "93/93 [==============================] - 1s 6ms/step - loss: 18.8543 - lr: 3.9811e-06\n",
            "Epoch 54/100\n",
            "93/93 [==============================] - 1s 7ms/step - loss: 18.7404 - lr: 4.4668e-06\n",
            "Epoch 55/100\n",
            "93/93 [==============================] - 1s 9ms/step - loss: 18.5087 - lr: 5.0119e-06\n",
            "Epoch 56/100\n",
            "93/93 [==============================] - 1s 5ms/step - loss: 18.4117 - lr: 5.6234e-06\n",
            "Epoch 57/100\n",
            "93/93 [==============================] - 1s 5ms/step - loss: 18.3050 - lr: 6.3096e-06\n",
            "Epoch 58/100\n",
            "93/93 [==============================] - 1s 5ms/step - loss: 18.1522 - lr: 7.0795e-06\n",
            "Epoch 59/100\n",
            "93/93 [==============================] - 1s 5ms/step - loss: 18.0860 - lr: 7.9433e-06\n",
            "Epoch 60/100\n",
            "93/93 [==============================] - 1s 5ms/step - loss: 17.9349 - lr: 8.9125e-06\n",
            "Epoch 61/100\n",
            "93/93 [==============================] - 1s 5ms/step - loss: 17.8667 - lr: 1.0000e-05\n",
            "Epoch 62/100\n",
            "93/93 [==============================] - 1s 5ms/step - loss: 17.7835 - lr: 1.1220e-05\n",
            "Epoch 63/100\n",
            "93/93 [==============================] - 1s 5ms/step - loss: 18.0400 - lr: 1.2589e-05\n",
            "Epoch 64/100\n",
            "93/93 [==============================] - 1s 5ms/step - loss: 17.9144 - lr: 1.4125e-05\n",
            "Epoch 65/100\n",
            "93/93 [==============================] - 1s 6ms/step - loss: 17.9040 - lr: 1.5849e-05\n",
            "Epoch 66/100\n",
            "93/93 [==============================] - 1s 9ms/step - loss: 17.6143 - lr: 1.7783e-05\n",
            "Epoch 67/100\n",
            "93/93 [==============================] - 1s 9ms/step - loss: 17.7050 - lr: 1.9953e-05\n",
            "Epoch 68/100\n",
            "93/93 [==============================] - 1s 10ms/step - loss: 17.7632 - lr: 2.2387e-05\n",
            "Epoch 69/100\n",
            "93/93 [==============================] - 1s 5ms/step - loss: 17.9770 - lr: 2.5119e-05\n",
            "Epoch 70/100\n",
            "93/93 [==============================] - 1s 5ms/step - loss: 17.7755 - lr: 2.8184e-05\n",
            "Epoch 71/100\n",
            "93/93 [==============================] - 1s 5ms/step - loss: 17.6912 - lr: 3.1623e-05\n",
            "Epoch 72/100\n",
            "93/93 [==============================] - 1s 5ms/step - loss: 17.6684 - lr: 3.5481e-05\n",
            "Epoch 73/100\n",
            "93/93 [==============================] - 1s 5ms/step - loss: 17.3685 - lr: 3.9811e-05\n",
            "Epoch 74/100\n",
            "93/93 [==============================] - 1s 5ms/step - loss: 17.5363 - lr: 4.4668e-05\n",
            "Epoch 75/100\n",
            "93/93 [==============================] - 1s 5ms/step - loss: 17.2616 - lr: 5.0119e-05\n",
            "Epoch 76/100\n",
            "93/93 [==============================] - 1s 5ms/step - loss: 17.8094 - lr: 5.6234e-05\n",
            "Epoch 77/100\n",
            "93/93 [==============================] - 1s 5ms/step - loss: 17.5155 - lr: 6.3096e-05\n",
            "Epoch 78/100\n",
            "93/93 [==============================] - 1s 5ms/step - loss: 17.6346 - lr: 7.0795e-05\n",
            "Epoch 79/100\n",
            "93/93 [==============================] - 1s 5ms/step - loss: 17.8961 - lr: 7.9433e-05\n",
            "Epoch 80/100\n",
            "93/93 [==============================] - 1s 5ms/step - loss: 18.3072 - lr: 8.9125e-05\n",
            "Epoch 81/100\n",
            "93/93 [==============================] - 1s 5ms/step - loss: 17.3579 - lr: 1.0000e-04\n",
            "Epoch 82/100\n",
            "93/93 [==============================] - 1s 5ms/step - loss: 17.8057 - lr: 1.1220e-04\n",
            "Epoch 83/100\n",
            "93/93 [==============================] - 1s 5ms/step - loss: 18.1059 - lr: 1.2589e-04\n",
            "Epoch 84/100\n",
            "93/93 [==============================] - 1s 5ms/step - loss: 18.1839 - lr: 1.4125e-04\n",
            "Epoch 85/100\n",
            "93/93 [==============================] - 1s 9ms/step - loss: 18.2417 - lr: 1.5849e-04\n",
            "Epoch 86/100\n",
            "93/93 [==============================] - 1s 9ms/step - loss: 18.6396 - lr: 1.7783e-04\n",
            "Epoch 87/100\n",
            "93/93 [==============================] - 1s 9ms/step - loss: 18.5865 - lr: 1.9953e-04\n",
            "Epoch 88/100\n",
            "93/93 [==============================] - 1s 5ms/step - loss: 18.1633 - lr: 2.2387e-04\n",
            "Epoch 89/100\n",
            "93/93 [==============================] - 1s 5ms/step - loss: 18.7536 - lr: 2.5119e-04\n",
            "Epoch 90/100\n",
            "93/93 [==============================] - 1s 5ms/step - loss: 19.3704 - lr: 2.8184e-04\n",
            "Epoch 91/100\n",
            "93/93 [==============================] - 1s 5ms/step - loss: 21.9092 - lr: 3.1623e-04\n",
            "Epoch 92/100\n",
            "93/93 [==============================] - 1s 5ms/step - loss: 20.2385 - lr: 3.5481e-04\n",
            "Epoch 93/100\n",
            "93/93 [==============================] - 1s 5ms/step - loss: 18.4755 - lr: 3.9811e-04\n",
            "Epoch 94/100\n",
            "93/93 [==============================] - 1s 5ms/step - loss: 21.2442 - lr: 4.4668e-04\n",
            "Epoch 95/100\n",
            "93/93 [==============================] - 1s 5ms/step - loss: 20.2353 - lr: 5.0119e-04\n",
            "Epoch 96/100\n",
            "93/93 [==============================] - 1s 5ms/step - loss: 24.0917 - lr: 5.6234e-04\n",
            "Epoch 97/100\n",
            "93/93 [==============================] - 1s 5ms/step - loss: 24.9864 - lr: 6.3096e-04\n",
            "Epoch 98/100\n",
            "93/93 [==============================] - 1s 5ms/step - loss: 21.4137 - lr: 7.0795e-04\n",
            "Epoch 99/100\n",
            "93/93 [==============================] - 1s 5ms/step - loss: 28.2440 - lr: 7.9433e-04\n",
            "Epoch 100/100\n",
            "93/93 [==============================] - 1s 5ms/step - loss: 38.9862 - lr: 8.9125e-04\n"
          ]
        }
      ],
      "source": [
        "# Set the learning rate scheduler\n",
        "lr_schedule = tf.keras.callbacks.LearningRateScheduler(\n",
        "    lambda epoch: 1e-8 * 10**(epoch / 20))\n",
        "\n",
        "# Initialize the optimizer\n",
        "optimizer = tf.keras.optimizers.SGD(momentum=0.9)\n",
        "\n",
        "# Set the training parameters\n",
        "model.compile(loss=tf.keras.losses.Huber(), optimizer=optimizer)\n",
        "\n",
        "# Train the model\n",
        "history = model.fit(train_set, epochs=100, callbacks=[lr_schedule])"
      ]
    },
    {
      "cell_type": "code",
      "execution_count": 11,
      "metadata": {
        "id": "xJFAB1NTzGJV",
        "colab": {
          "base_uri": "https://localhost:8080/",
          "height": 558
        },
        "outputId": "71e9184e-b9cf-4b01-b5a5-ac03a926634b"
      },
      "outputs": [
        {
          "output_type": "execute_result",
          "data": {
            "text/plain": [
              "(1e-08, 0.001, 0.0, 100.0)"
            ]
          },
          "metadata": {},
          "execution_count": 11
        },
        {
          "output_type": "display_data",
          "data": {
            "text/plain": [
              "<Figure size 1000x600 with 1 Axes>"
            ],
            "image/png": "[encoded data removed]"
          },
          "metadata": {}
        }
      ],
      "source": [
        "# Define the learning rate array\n",
        "lrs = 1e-8 * (10 ** (np.arange(100) / 20))\n",
        "\n",
        "# Set the figure size\n",
        "plt.figure(figsize=(10, 6))\n",
        "\n",
        "# Set the grid\n",
        "plt.grid(True)\n",
        "\n",
        "# Plot the loss in log scale\n",
        "plt.semilogx(lrs, history.history[\"loss\"])\n",
        "\n",
        "# Increase the tickmarks size\n",
        "plt.tick_params('both', length=10, width=1, which='both')\n",
        "\n",
        "# Set the plot boundaries\n",
        "plt.axis([1e-8, 1e-3, 0, 100])"
      ]
    },
    {
      "cell_type": "markdown",
      "metadata": {
        "id": "oY4mnUpNbFdc"
      },
      "source": [
        "## Train the Model\n",
        "\n",
        "Once you've picked a learning rate, you can rebuild the model and start training."
      ]
    },
    {
      "cell_type": "code",
      "execution_count": 12,
      "metadata": {
        "id": "Ngna3zR4znJd"
      },
      "outputs": [],
      "source": [
        "# Reset states generated by Keras\n",
        "tf.keras.backend.clear_session()\n",
        "\n",
        "# Build the Model\n",
        "model = tf.keras.models.Sequential([\n",
        "    tf.keras.layers.Dense(30, input_shape=[window_size], activation=\"relu\"),\n",
        "    tf.keras.layers.Dense(10, activation=\"relu\"),\n",
        "    tf.keras.layers.Dense(1)\n",
        "])"
      ]
    },
    {
      "cell_type": "code",
      "execution_count": 13,
      "metadata": {
        "id": "7FKXvEYxzuoc",
        "colab": {
          "base_uri": "https://localhost:8080/"
        },
        "outputId": "e25f23dc-15ff-41d5-d748-8e644e638a95"
      },
      "outputs": [
        {
          "output_type": "stream",
          "name": "stdout",
          "text": [
            "Epoch 1/100\n",
            "93/93 [==============================] - 1s 6ms/step - loss: 26.3840 - mae: 26.8778\n",
            "Epoch 2/100\n",
            "93/93 [==============================] - 1s 6ms/step - loss: 19.5828 - mae: 20.0744\n",
            "Epoch 3/100\n",
            "93/93 [==============================] - 1s 6ms/step - loss: 18.9180 - mae: 19.4095\n",
            "Epoch 4/100\n",
            "93/93 [==============================] - 1s 5ms/step - loss: 18.4111 - mae: 18.9039\n",
            "Epoch 5/100\n",
            "93/93 [==============================] - 1s 6ms/step - loss: 18.3242 - mae: 18.8173\n",
            "Epoch 6/100\n",
            "93/93 [==============================] - 1s 9ms/step - loss: 17.9745 - mae: 18.4661\n",
            "Epoch 7/100\n",
            "93/93 [==============================] - 1s 9ms/step - loss: 17.9670 - mae: 18.4601\n",
            "Epoch 8/100\n",
            "93/93 [==============================] - 1s 9ms/step - loss: 17.8809 - mae: 18.3736\n",
            "Epoch 9/100\n",
            "93/93 [==============================] - 1s 6ms/step - loss: 17.8615 - mae: 18.3551\n",
            "Epoch 10/100\n",
            "93/93 [==============================] - 1s 6ms/step - loss: 17.8088 - mae: 18.3005\n",
            "Epoch 11/100\n",
            "93/93 [==============================] - 1s 11ms/step - loss: 17.8648 - mae: 18.3571\n",
            "Epoch 12/100\n",
            "93/93 [==============================] - 1s 11ms/step - loss: 17.8861 - mae: 18.3784\n",
            "Epoch 13/100\n",
            "93/93 [==============================] - 1s 11ms/step - loss: 17.4775 - mae: 17.9692\n",
            "Epoch 14/100\n",
            "93/93 [==============================] - 1s 11ms/step - loss: 17.4068 - mae: 17.8981\n",
            "Epoch 15/100\n",
            "93/93 [==============================] - 1s 12ms/step - loss: 17.2946 - mae: 17.7881\n",
            "Epoch 16/100\n",
            "93/93 [==============================] - 1s 5ms/step - loss: 17.2704 - mae: 17.7625\n",
            "Epoch 17/100\n",
            "93/93 [==============================] - 1s 5ms/step - loss: 17.3223 - mae: 17.8151\n",
            "Epoch 18/100\n",
            "93/93 [==============================] - 1s 6ms/step - loss: 17.2486 - mae: 17.7417\n",
            "Epoch 19/100\n",
            "93/93 [==============================] - 1s 9ms/step - loss: 17.2233 - mae: 17.7167\n",
            "Epoch 20/100\n",
            "93/93 [==============================] - 1s 9ms/step - loss: 17.1848 - mae: 17.6773\n",
            "Epoch 21/100\n",
            "93/93 [==============================] - 1s 11ms/step - loss: 17.2125 - mae: 17.7036\n",
            "Epoch 22/100\n",
            "93/93 [==============================] - 1s 5ms/step - loss: 17.0683 - mae: 17.5613\n",
            "Epoch 23/100\n",
            "93/93 [==============================] - 1s 5ms/step - loss: 17.1867 - mae: 17.6780\n",
            "Epoch 24/100\n",
            "93/93 [==============================] - 1s 6ms/step - loss: 17.0905 - mae: 17.5813\n",
            "Epoch 25/100\n",
            "93/93 [==============================] - 1s 5ms/step - loss: 17.0579 - mae: 17.5494\n",
            "Epoch 26/100\n",
            "93/93 [==============================] - 1s 6ms/step - loss: 17.0249 - mae: 17.5170\n",
            "Epoch 27/100\n",
            "93/93 [==============================] - 1s 5ms/step - loss: 17.0822 - mae: 17.5736\n",
            "Epoch 28/100\n",
            "93/93 [==============================] - 1s 5ms/step - loss: 16.9585 - mae: 17.4505\n",
            "Epoch 29/100\n",
            "93/93 [==============================] - 1s 5ms/step - loss: 17.0317 - mae: 17.5233\n",
            "Epoch 30/100\n",
            "93/93 [==============================] - 1s 5ms/step - loss: 17.0316 - mae: 17.5227\n",
            "Epoch 31/100\n",
            "93/93 [==============================] - 1s 6ms/step - loss: 16.9630 - mae: 17.4547\n",
            "Epoch 32/100\n",
            "93/93 [==============================] - 1s 5ms/step - loss: 17.1571 - mae: 17.6482\n",
            "Epoch 33/100\n",
            "93/93 [==============================] - 1s 6ms/step - loss: 16.9603 - mae: 17.4514\n",
            "Epoch 34/100\n",
            "93/93 [==============================] - 1s 5ms/step - loss: 17.0399 - mae: 17.5309\n",
            "Epoch 35/100\n",
            "93/93 [==============================] - 1s 5ms/step - loss: 17.1253 - mae: 17.6170\n",
            "Epoch 36/100\n",
            "93/93 [==============================] - 1s 9ms/step - loss: 17.1181 - mae: 17.6096\n",
            "Epoch 37/100\n",
            "93/93 [==============================] - 1s 9ms/step - loss: 17.0084 - mae: 17.4996\n",
            "Epoch 38/100\n",
            "93/93 [==============================] - 1s 9ms/step - loss: 16.7953 - mae: 17.2855\n",
            "Epoch 39/100\n",
            "93/93 [==============================] - 1s 6ms/step - loss: 16.9593 - mae: 17.4520\n",
            "Epoch 40/100\n",
            "93/93 [==============================] - 1s 5ms/step - loss: 16.8275 - mae: 17.3188\n",
            "Epoch 41/100\n",
            "93/93 [==============================] - 1s 5ms/step - loss: 16.8363 - mae: 17.3266\n",
            "Epoch 42/100\n",
            "93/93 [==============================] - 1s 5ms/step - loss: 16.8823 - mae: 17.3724\n",
            "Epoch 43/100\n",
            "93/93 [==============================] - 1s 5ms/step - loss: 16.8993 - mae: 17.3914\n",
            "Epoch 44/100\n",
            "93/93 [==============================] - 1s 6ms/step - loss: 16.7999 - mae: 17.2929\n",
            "Epoch 45/100\n",
            "93/93 [==============================] - 1s 6ms/step - loss: 16.8213 - mae: 17.3140\n",
            "Epoch 46/100\n",
            "93/93 [==============================] - 1s 5ms/step - loss: 16.7913 - mae: 17.2832\n",
            "Epoch 47/100\n",
            "93/93 [==============================] - 1s 5ms/step - loss: 16.8249 - mae: 17.3162\n",
            "Epoch 48/100\n",
            "93/93 [==============================] - 1s 5ms/step - loss: 16.7163 - mae: 17.2065\n",
            "Epoch 49/100\n",
            "93/93 [==============================] - 1s 5ms/step - loss: 16.7863 - mae: 17.2790\n",
            "Epoch 50/100\n",
            "93/93 [==============================] - 1s 5ms/step - loss: 16.7371 - mae: 17.2281\n",
            "Epoch 51/100\n",
            "93/93 [==============================] - 1s 5ms/step - loss: 16.9638 - mae: 17.4561\n",
            "Epoch 52/100\n",
            "93/93 [==============================] - 1s 5ms/step - loss: 16.8031 - mae: 17.2959\n",
            "Epoch 53/100\n",
            "93/93 [==============================] - 1s 5ms/step - loss: 16.7465 - mae: 17.2369\n",
            "Epoch 54/100\n",
            "93/93 [==============================] - 1s 5ms/step - loss: 16.8149 - mae: 17.3054\n",
            "Epoch 55/100\n",
            "93/93 [==============================] - 1s 9ms/step - loss: 16.7211 - mae: 17.2125\n",
            "Epoch 56/100\n",
            "93/93 [==============================] - 1s 9ms/step - loss: 16.8234 - mae: 17.3161\n",
            "Epoch 57/100\n",
            "93/93 [==============================] - 1s 6ms/step - loss: 16.7966 - mae: 17.2881\n",
            "Epoch 58/100\n",
            "93/93 [==============================] - 1s 6ms/step - loss: 16.7863 - mae: 17.2768\n",
            "Epoch 59/100\n",
            "93/93 [==============================] - 1s 6ms/step - loss: 16.7099 - mae: 17.2008\n",
            "Epoch 60/100\n",
            "93/93 [==============================] - 1s 5ms/step - loss: 16.6238 - mae: 17.1145\n",
            "Epoch 61/100\n",
            "93/93 [==============================] - 1s 5ms/step - loss: 16.7900 - mae: 17.2824\n",
            "Epoch 62/100\n",
            "93/93 [==============================] - 1s 5ms/step - loss: 16.8493 - mae: 17.3399\n",
            "Epoch 63/100\n",
            "93/93 [==============================] - 1s 6ms/step - loss: 16.5641 - mae: 17.0554\n",
            "Epoch 64/100\n",
            "93/93 [==============================] - 1s 5ms/step - loss: 16.6746 - mae: 17.1650\n",
            "Epoch 65/100\n",
            "93/93 [==============================] - 1s 5ms/step - loss: 16.8688 - mae: 17.3606\n",
            "Epoch 66/100\n",
            "93/93 [==============================] - 1s 6ms/step - loss: 16.8112 - mae: 17.3030\n",
            "Epoch 67/100\n",
            "93/93 [==============================] - 1s 5ms/step - loss: 16.8340 - mae: 17.3239\n",
            "Epoch 68/100\n",
            "93/93 [==============================] - 1s 5ms/step - loss: 16.6931 - mae: 17.1834\n",
            "Epoch 69/100\n",
            "93/93 [==============================] - 1s 5ms/step - loss: 17.0037 - mae: 17.4951\n",
            "Epoch 70/100\n",
            "93/93 [==============================] - 1s 5ms/step - loss: 16.6685 - mae: 17.1596\n",
            "Epoch 71/100\n",
            "93/93 [==============================] - 1s 6ms/step - loss: 16.9135 - mae: 17.4034\n",
            "Epoch 72/100\n",
            "93/93 [==============================] - 1s 9ms/step - loss: 16.7105 - mae: 17.2022\n",
            "Epoch 73/100\n",
            "93/93 [==============================] - 1s 10ms/step - loss: 16.6866 - mae: 17.1780\n",
            "Epoch 74/100\n",
            "93/93 [==============================] - 1s 7ms/step - loss: 16.6942 - mae: 17.1859\n",
            "Epoch 75/100\n",
            "93/93 [==============================] - 1s 6ms/step - loss: 16.6531 - mae: 17.1430\n",
            "Epoch 76/100\n",
            "93/93 [==============================] - 1s 5ms/step - loss: 16.8610 - mae: 17.3531\n",
            "Epoch 77/100\n",
            "93/93 [==============================] - 1s 6ms/step - loss: 16.7280 - mae: 17.2183\n",
            "Epoch 78/100\n",
            "93/93 [==============================] - 1s 6ms/step - loss: 16.6361 - mae: 17.1267\n",
            "Epoch 79/100\n",
            "93/93 [==============================] - 1s 6ms/step - loss: 16.5997 - mae: 17.0912\n",
            "Epoch 80/100\n",
            "93/93 [==============================] - 1s 5ms/step - loss: 16.7842 - mae: 17.2751\n",
            "Epoch 81/100\n",
            "93/93 [==============================] - 1s 6ms/step - loss: 16.6552 - mae: 17.1437\n",
            "Epoch 82/100\n",
            "93/93 [==============================] - 1s 6ms/step - loss: 16.6493 - mae: 17.1394\n",
            "Epoch 83/100\n",
            "93/93 [==============================] - 1s 6ms/step - loss: 16.6749 - mae: 17.1656\n",
            "Epoch 84/100\n",
            "93/93 [==============================] - 1s 6ms/step - loss: 17.0302 - mae: 17.5210\n",
            "Epoch 85/100\n",
            "93/93 [==============================] - 1s 6ms/step - loss: 16.7412 - mae: 17.2334\n",
            "Epoch 86/100\n",
            "93/93 [==============================] - 1s 5ms/step - loss: 16.6716 - mae: 17.1625\n",
            "Epoch 87/100\n",
            "93/93 [==============================] - 1s 6ms/step - loss: 16.6968 - mae: 17.1878\n",
            "Epoch 88/100\n",
            "93/93 [==============================] - 1s 5ms/step - loss: 16.5263 - mae: 17.0169\n",
            "Epoch 89/100\n",
            "93/93 [==============================] - 1s 6ms/step - loss: 16.6359 - mae: 17.1273\n",
            "Epoch 90/100\n",
            "93/93 [==============================] - 1s 9ms/step - loss: 16.6199 - mae: 17.1112\n",
            "Epoch 91/100\n",
            "93/93 [==============================] - 1s 9ms/step - loss: 16.5486 - mae: 17.0400\n",
            "Epoch 92/100\n",
            "93/93 [==============================] - 1s 9ms/step - loss: 16.5990 - mae: 17.0907\n",
            "Epoch 93/100\n",
            "93/93 [==============================] - 1s 7ms/step - loss: 16.8985 - mae: 17.3885\n",
            "Epoch 94/100\n",
            "93/93 [==============================] - 1s 6ms/step - loss: 16.5591 - mae: 17.0489\n",
            "Epoch 95/100\n",
            "93/93 [==============================] - 1s 5ms/step - loss: 16.5993 - mae: 17.0896\n",
            "Epoch 96/100\n",
            "93/93 [==============================] - 1s 6ms/step - loss: 16.5619 - mae: 17.0528\n",
            "Epoch 97/100\n",
            "93/93 [==============================] - 1s 5ms/step - loss: 16.6220 - mae: 17.1114\n",
            "Epoch 98/100\n",
            "93/93 [==============================] - 1s 6ms/step - loss: 16.6098 - mae: 17.1017\n",
            "Epoch 99/100\n",
            "93/93 [==============================] - 1s 5ms/step - loss: 16.5256 - mae: 17.0175\n",
            "Epoch 100/100\n",
            "93/93 [==============================] - 1s 5ms/step - loss: 16.4907 - mae: 16.9798\n"
          ]
        }
      ],
      "source": [
        "# Set the learning rate\n",
        "learning_rate = 2e-5\n",
        "\n",
        "# Set the optimizer\n",
        "optimizer = tf.keras.optimizers.SGD(learning_rate=learning_rate, momentum=0.9)\n",
        "\n",
        "# Set the training parameters\n",
        "model.compile(loss=tf.keras.losses.Huber(),\n",
        "              optimizer=optimizer,\n",
        "              metrics=[\"mae\"])\n",
        "\n",
        "# Train the model\n",
        "history = model.fit(train_set,epochs=100)"
      ]
    },
    {
      "cell_type": "markdown",
      "metadata": {
        "id": "b1iV2t8ibIka"
      },
      "source": [
        "## Model Prediction\n",
        "\n",
        "Now see if the model generates good results. If you used the default parameters of this notebook, you should see the predictions follow the shape of the ground truth with an MAE of around 15."
      ]
    },
    {
      "cell_type": "code",
      "execution_count": 14,
      "metadata": {
        "id": "djn06Tri2B6_"
      },
      "outputs": [],
      "source": [
        "def model_forecast(model, series, window_size, batch_size):\n",
        "    \"\"\"Uses an input model to generate predictions on data windows\n",
        "\n",
        "    Args:\n",
        "      model (TF Keras Model) - model that accepts data windows\n",
        "      series (array of float) - contains the values of the time series\n",
        "      window_size (int) - the number of time steps to include in the window\n",
        "      batch_size (int) - the batch size\n",
        "\n",
        "    Returns:\n",
        "      forecast (numpy array) - array containing predictions\n",
        "    \"\"\"\n",
        "\n",
        "    # Generate a TF Dataset from the series values\n",
        "    dataset = tf.data.Dataset.from_tensor_slices(series)\n",
        "\n",
        "    # Window the data but only take those with the specified size\n",
        "    dataset = dataset.window(window_size, shift=1, drop_remainder=True)\n",
        "\n",
        "    # Flatten the windows by putting its elements in a single batch\n",
        "    dataset = dataset.flat_map(lambda w: w.batch(window_size))\n",
        "\n",
        "    # Create batches of windows\n",
        "    dataset = dataset.batch(batch_size).prefetch(1)\n",
        "\n",
        "    # Get predictions on the entire dataset\n",
        "    forecast = model.predict(dataset)\n",
        "\n",
        "    return forecast"
      ]
    },
    {
      "cell_type": "code",
      "execution_count": 22,
      "metadata": {
        "id": "GaC6NNMRp0lb",
        "colab": {
          "base_uri": "https://localhost:8080/",
          "height": 539
        },
        "outputId": "8c2f71c2-ca36-48a2-fecc-7874fa8a9e88"
      },
      "outputs": [
        {
          "output_type": "stream",
          "name": "stdout",
          "text": [
            "8/8 [==============================] - 0s 8ms/step\n"
          ]
        },
        {
          "output_type": "display_data",
          "data": {
            "text/plain": [
              "<Figure size 1000x600 with 1 Axes>"
            ],
            "image/png": "[encoded data removed]"
          },
          "metadata": {}
        }
      ],
      "source": [
        "# Reduce the original series\n",
        "forecast_series = series[split_time-window_size:-1]\n",
        "\n",
        "# Use helper function to generate predictions\n",
        "forecast = model_forecast(model, forecast_series, window_size, batch_size)\n",
        "\n",
        "# Drop single dimensional axis\n",
        "results = forecast.squeeze()\n",
        "\n",
        "# Plot the results\n",
        "plot_series(time_valid, (x_valid, results))"
      ]
    },
    {
      "cell_type": "code",
      "execution_count": 18,
      "metadata": {
        "id": "13XrorC5wQoE",
        "colab": {
          "base_uri": "https://localhost:8080/"
        },
        "outputId": "076c0e09-06b9-444c-a129-289465182084"
      },
      "outputs": [
        {
          "output_type": "stream",
          "name": "stdout",
          "text": [
            "14.49226\n"
          ]
        }
      ],
      "source": [
        "# Compute the MAE\n",
        "print(tf.keras.metrics.mean_absolute_error(x_valid, results).numpy())"
      ]
    },
    {
      "cell_type": "markdown",
      "metadata": {
        "id": "YqMGN9S5veN2"
      },
      "source": [
        "## Wrap Up\n",
        "\n",
        "In this lab, you built a relatively simple DNN to forecast sunspot numbers for a given month. We encourage you to tweak the parameters or train longer and see the best results you can get. In the next lab, you will build a more complex model and you evaluate if the added complexity translates to better or worse results."
      ]
    }
  ],
  "metadata": {
    "colab": {
      "provenance": [],
      "gpuType": "V100",
      "include_colab_link": true
    },
    "kernelspec": {
      "display_name": "Python 3",
      "name": "python3"
    },
    "language_info": {
      "codemirror_mode": {
        "name": "ipython",
        "version": 3
      },
      "file_extension": ".py",
      "mimetype": "text/x-python",
      "name": "python",
      "nbconvert_exporter": "python",
      "pygments_lexer": "ipython3",
      "version": "3.7.4"
    },
    "accelerator": "GPU"
  },
  "nbformat": 4,
  "nbformat_minor": 0
}